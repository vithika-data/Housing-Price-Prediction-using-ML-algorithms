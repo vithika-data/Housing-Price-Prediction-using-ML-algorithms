{
 "cells": [
  {
   "cell_type": "markdown",
   "metadata": {},
   "source": [
    "# <font color='red'> Project 1\n",
    "\n",
    "# Project description:\n",
    "- Please read the Data Set Information section to learn about this dataset. \n",
    "- Data description is also provided for thi dataset.\n",
    "- Read data into Jupyter notebook, use pandas to import data into a data frame\n",
    "- Preprocess data: Explore data, check for missing data and apply data scaling. Justify the type of scaling used."
   ]
  },
  {
   "cell_type": "markdown",
   "metadata": {},
   "source": [
    "# [1] Data Set Information"
   ]
  },
  {
   "cell_type": "markdown",
   "metadata": {},
   "source": [
    "This Dataset has been taken from kaggle.com\n",
    "The source of the data set is given as follows: https://www.kaggle.com/c/house-prices-advanced-regression-techniques/data"
   ]
  },
  {
   "cell_type": "markdown",
   "metadata": {},
   "source": [
    "### File Description"
   ]
  },
  {
   "cell_type": "raw",
   "metadata": {},
   "source": [
    "train.csv - the training set\n",
    "test.csv - the test set\n",
    "data_description.txt - full description of each column, originally prepared by Dean De Cock but lightly edited to match the column names used here\n",
    "In this data set, we need to predict which property has the best SalePrice using different models. We are trying to find which models give the best result. "
   ]
  },
  {
   "cell_type": "markdown",
   "metadata": {},
   "source": [
    "### Data fields: Attribute Information"
   ]
  },
  {
   "cell_type": "raw",
   "metadata": {},
   "source": [
    "Here's a brief version of what you'll find in the data description file.\n",
    "\n",
    "SalePrice - the property's sale price in dollars. This is the target variable that you're trying to predict.\n",
    "MSSubClass: The building class\n",
    "MSZoning: The general zoning classification\n",
    "LotFrontage: Linear feet of street connected to property\n",
    "LotArea: Lot size in square feet\n",
    "Street: Type of road access\n",
    "Alley: Type of alley access\n",
    "LotShape: General shape of property\n",
    "LandContour: Flatness of the property\n",
    "Utilities: Type of utilities available\n",
    "LotConfig: Lot configuration\n",
    "LandSlope: Slope of property\n",
    "Neighborhood: Physical locations within Ames city limits\n",
    "Condition1: Proximity to main road or railroad\n",
    "Condition2: Proximity to main road or railroad (if a second is present)\n",
    "BldgType: Type of dwelling\n",
    "HouseStyle: Style of dwelling\n",
    "OverallQual: Overall material and finish quality\n",
    "OverallCond: Overall condition rating\n",
    "YearBuilt: Original construction date\n",
    "YearRemodAdd: Remodel date\n",
    "RoofStyle: Type of roof\n",
    "RoofMatl: Roof material\n",
    "Exterior1st: Exterior covering on house\n",
    "Exterior2nd: Exterior covering on house (if more than one material)\n",
    "MasVnrType: Masonry veneer type\n",
    "MasVnrArea: Masonry veneer area in square feet\n",
    "ExterQual: Exterior material quality\n",
    "ExterCond: Present condition of the material on the exterior\n",
    "Foundation: Type of foundation\n",
    "BsmtQual: Height of the basement\n",
    "BsmtCond: General condition of the basement\n",
    "BsmtExposure: Walkout or garden level basement walls\n",
    "BsmtFinType1: Quality of basement finished area\n",
    "BsmtFinSF1: Type 1 finished square feet\n",
    "BsmtFinType2: Quality of second finished area (if present)\n",
    "BsmtFinSF2: Type 2 finished square feet\n",
    "BsmtUnfSF: Unfinished square feet of basement area\n",
    "TotalBsmtSF: Total square feet of basement area\n",
    "Heating: Type of heating\n",
    "HeatingQC: Heating quality and condition\n",
    "CentralAir: Central air conditioning\n",
    "Electrical: Electrical system\n",
    "1stFlrSF: First Floor square feet\n",
    "2ndFlrSF: Second floor square feet\n",
    "LowQualFinSF: Low quality finished square feet (all floors)\n",
    "GrLivArea: Above grade (ground) living area square feet\n",
    "BsmtFullBath: Basement full bathrooms\n",
    "BsmtHalfBath: Basement half bathrooms\n",
    "FullBath: Full bathrooms above grade\n",
    "HalfBath: Half baths above grade\n",
    "Bedroom: Number of bedrooms above basement level\n",
    "Kitchen: Number of kitchens\n",
    "KitchenQual: Kitchen quality\n",
    "TotRmsAbvGrd: Total rooms above grade (does not include bathrooms)\n",
    "Functional: Home functionality rating\n",
    "Fireplaces: Number of fireplaces\n",
    "FireplaceQu: Fireplace quality\n",
    "GarageType: Garage location\n",
    "GarageYrBlt: Year garage was built\n",
    "GarageFinish: Interior finish of the garage\n",
    "GarageCars: Size of garage in car capacity\n",
    "GarageArea: Size of garage in square feet\n",
    "GarageQual: Garage quality\n",
    "GarageCond: Garage condition\n",
    "PavedDrive: Paved driveway\n",
    "WoodDeckSF: Wood deck area in square feet\n",
    "OpenPorchSF: Open porch area in square feet\n",
    "EnclosedPorch: Enclosed porch area in square feet\n",
    "3SsnPorch: Three season porch area in square feet\n",
    "ScreenPorch: Screen porch area in square feet\n",
    "PoolArea: Pool area in square feet\n",
    "PoolQC: Pool quality\n",
    "Fence: Fence quality\n",
    "MiscFeature: Miscellaneous feature not covered in other categories\n",
    "MiscVal: Value of miscellaneous feature\n",
    "MoSold: Month Sold\n",
    "YrSold: Year Sold\n",
    "SaleType: Type of sale\n",
    "SaleCondition: Condition of sale"
   ]
  },
  {
   "cell_type": "markdown",
   "metadata": {},
   "source": [
    "# [2] Importing Basic Libraries"
   ]
  },
  {
   "cell_type": "code",
   "execution_count": 1,
   "metadata": {},
   "outputs": [],
   "source": [
    "#loading Packages\n",
    "import numpy as np\n",
    "import matplotlib as mlt\n",
    "import pandas as pd\n",
    "import missingno as msno\n",
    "import matplotlib.pyplot as plt\n",
    "import seaborn as sns\n",
    "\n",
    "from sklearn.linear_model import LinearRegression\n",
    "from sklearn.model_selection import train_test_split\n",
    "from sklearn.preprocessing import MinMaxScaler\n",
    "from sklearn.preprocessing import StandardScaler\n",
    "from sklearn.preprocessing import normalize\n",
    "from  sklearn.preprocessing  import PolynomialFeatures\n",
    "from sklearn.model_selection import train_test_split,cross_val_score\n",
    "from sklearn.model_selection import GridSearchCV\n",
    "\n",
    "from sklearn.metrics import r2_score,mean_squared_error\n",
    "from sklearn.metrics import classification_report,confusion_matrix"
   ]
  },
  {
   "cell_type": "markdown",
   "metadata": {},
   "source": [
    "# [3] Reading the datasets"
   ]
  },
  {
   "cell_type": "code",
   "execution_count": 2,
   "metadata": {},
   "outputs": [
    {
     "name": "stdout",
     "output_type": "stream",
     "text": [
      "Shape of train data:  (1460, 81)\n",
      "Shape of test data:  (1459, 80)\n"
     ]
    }
   ],
   "source": [
    "data = pd.read_csv(\"train.csv\")\n",
    "test = pd.read_csv(\"test.csv\")\n",
    "\n",
    "print('Shape of train data: ', data.shape)\n",
    "print('Shape of test data: ', test.shape)"
   ]
  },
  {
   "cell_type": "markdown",
   "metadata": {},
   "source": [
    "# [4] Initial Overview of the datasets"
   ]
  },
  {
   "cell_type": "code",
   "execution_count": 3,
   "metadata": {},
   "outputs": [
    {
     "data": {
      "text/plain": [
       "Id                 int64\n",
       "MSSubClass         int64\n",
       "MSZoning          object\n",
       "LotFrontage      float64\n",
       "LotArea            int64\n",
       "Street            object\n",
       "Alley             object\n",
       "LotShape          object\n",
       "LandContour       object\n",
       "Utilities         object\n",
       "LotConfig         object\n",
       "LandSlope         object\n",
       "Neighborhood      object\n",
       "Condition1        object\n",
       "Condition2        object\n",
       "BldgType          object\n",
       "HouseStyle        object\n",
       "OverallQual        int64\n",
       "OverallCond        int64\n",
       "YearBuilt          int64\n",
       "YearRemodAdd       int64\n",
       "RoofStyle         object\n",
       "RoofMatl          object\n",
       "Exterior1st       object\n",
       "Exterior2nd       object\n",
       "MasVnrType        object\n",
       "MasVnrArea       float64\n",
       "ExterQual         object\n",
       "ExterCond         object\n",
       "Foundation        object\n",
       "                  ...   \n",
       "BedroomAbvGr       int64\n",
       "KitchenAbvGr       int64\n",
       "KitchenQual       object\n",
       "TotRmsAbvGrd       int64\n",
       "Functional        object\n",
       "Fireplaces         int64\n",
       "FireplaceQu       object\n",
       "GarageType        object\n",
       "GarageYrBlt      float64\n",
       "GarageFinish      object\n",
       "GarageCars         int64\n",
       "GarageArea         int64\n",
       "GarageQual        object\n",
       "GarageCond        object\n",
       "PavedDrive        object\n",
       "WoodDeckSF         int64\n",
       "OpenPorchSF        int64\n",
       "EnclosedPorch      int64\n",
       "3SsnPorch          int64\n",
       "ScreenPorch        int64\n",
       "PoolArea           int64\n",
       "PoolQC            object\n",
       "Fence             object\n",
       "MiscFeature       object\n",
       "MiscVal            int64\n",
       "MoSold             int64\n",
       "YrSold             int64\n",
       "SaleType          object\n",
       "SaleCondition     object\n",
       "SalePrice          int64\n",
       "Length: 81, dtype: object"
      ]
     },
     "execution_count": 3,
     "metadata": {},
     "output_type": "execute_result"
    }
   ],
   "source": [
    "data.dtypes"
   ]
  },
  {
   "cell_type": "code",
   "execution_count": 4,
   "metadata": {},
   "outputs": [
    {
     "data": {
      "text/html": [
       "<div>\n",
       "<style scoped>\n",
       "    .dataframe tbody tr th:only-of-type {\n",
       "        vertical-align: middle;\n",
       "    }\n",
       "\n",
       "    .dataframe tbody tr th {\n",
       "        vertical-align: top;\n",
       "    }\n",
       "\n",
       "    .dataframe thead th {\n",
       "        text-align: right;\n",
       "    }\n",
       "</style>\n",
       "<table border=\"1\" class=\"dataframe\">\n",
       "  <thead>\n",
       "    <tr style=\"text-align: right;\">\n",
       "      <th></th>\n",
       "      <th>Id</th>\n",
       "      <th>MSSubClass</th>\n",
       "      <th>LotFrontage</th>\n",
       "      <th>LotArea</th>\n",
       "      <th>OverallQual</th>\n",
       "      <th>OverallCond</th>\n",
       "      <th>YearBuilt</th>\n",
       "      <th>YearRemodAdd</th>\n",
       "      <th>MasVnrArea</th>\n",
       "      <th>BsmtFinSF1</th>\n",
       "      <th>...</th>\n",
       "      <th>WoodDeckSF</th>\n",
       "      <th>OpenPorchSF</th>\n",
       "      <th>EnclosedPorch</th>\n",
       "      <th>3SsnPorch</th>\n",
       "      <th>ScreenPorch</th>\n",
       "      <th>PoolArea</th>\n",
       "      <th>MiscVal</th>\n",
       "      <th>MoSold</th>\n",
       "      <th>YrSold</th>\n",
       "      <th>SalePrice</th>\n",
       "    </tr>\n",
       "  </thead>\n",
       "  <tbody>\n",
       "    <tr>\n",
       "      <th>count</th>\n",
       "      <td>1460.000000</td>\n",
       "      <td>1460.000000</td>\n",
       "      <td>1201.000000</td>\n",
       "      <td>1460.000000</td>\n",
       "      <td>1460.000000</td>\n",
       "      <td>1460.000000</td>\n",
       "      <td>1460.000000</td>\n",
       "      <td>1460.000000</td>\n",
       "      <td>1452.000000</td>\n",
       "      <td>1460.000000</td>\n",
       "      <td>...</td>\n",
       "      <td>1460.000000</td>\n",
       "      <td>1460.000000</td>\n",
       "      <td>1460.000000</td>\n",
       "      <td>1460.000000</td>\n",
       "      <td>1460.000000</td>\n",
       "      <td>1460.000000</td>\n",
       "      <td>1460.000000</td>\n",
       "      <td>1460.000000</td>\n",
       "      <td>1460.000000</td>\n",
       "      <td>1460.000000</td>\n",
       "    </tr>\n",
       "    <tr>\n",
       "      <th>mean</th>\n",
       "      <td>730.500000</td>\n",
       "      <td>56.897260</td>\n",
       "      <td>70.049958</td>\n",
       "      <td>10516.828082</td>\n",
       "      <td>6.099315</td>\n",
       "      <td>5.575342</td>\n",
       "      <td>1971.267808</td>\n",
       "      <td>1984.865753</td>\n",
       "      <td>103.685262</td>\n",
       "      <td>443.639726</td>\n",
       "      <td>...</td>\n",
       "      <td>94.244521</td>\n",
       "      <td>46.660274</td>\n",
       "      <td>21.954110</td>\n",
       "      <td>3.409589</td>\n",
       "      <td>15.060959</td>\n",
       "      <td>2.758904</td>\n",
       "      <td>43.489041</td>\n",
       "      <td>6.321918</td>\n",
       "      <td>2007.815753</td>\n",
       "      <td>180921.195890</td>\n",
       "    </tr>\n",
       "    <tr>\n",
       "      <th>std</th>\n",
       "      <td>421.610009</td>\n",
       "      <td>42.300571</td>\n",
       "      <td>24.284752</td>\n",
       "      <td>9981.264932</td>\n",
       "      <td>1.382997</td>\n",
       "      <td>1.112799</td>\n",
       "      <td>30.202904</td>\n",
       "      <td>20.645407</td>\n",
       "      <td>181.066207</td>\n",
       "      <td>456.098091</td>\n",
       "      <td>...</td>\n",
       "      <td>125.338794</td>\n",
       "      <td>66.256028</td>\n",
       "      <td>61.119149</td>\n",
       "      <td>29.317331</td>\n",
       "      <td>55.757415</td>\n",
       "      <td>40.177307</td>\n",
       "      <td>496.123024</td>\n",
       "      <td>2.703626</td>\n",
       "      <td>1.328095</td>\n",
       "      <td>79442.502883</td>\n",
       "    </tr>\n",
       "    <tr>\n",
       "      <th>min</th>\n",
       "      <td>1.000000</td>\n",
       "      <td>20.000000</td>\n",
       "      <td>21.000000</td>\n",
       "      <td>1300.000000</td>\n",
       "      <td>1.000000</td>\n",
       "      <td>1.000000</td>\n",
       "      <td>1872.000000</td>\n",
       "      <td>1950.000000</td>\n",
       "      <td>0.000000</td>\n",
       "      <td>0.000000</td>\n",
       "      <td>...</td>\n",
       "      <td>0.000000</td>\n",
       "      <td>0.000000</td>\n",
       "      <td>0.000000</td>\n",
       "      <td>0.000000</td>\n",
       "      <td>0.000000</td>\n",
       "      <td>0.000000</td>\n",
       "      <td>0.000000</td>\n",
       "      <td>1.000000</td>\n",
       "      <td>2006.000000</td>\n",
       "      <td>34900.000000</td>\n",
       "    </tr>\n",
       "    <tr>\n",
       "      <th>25%</th>\n",
       "      <td>365.750000</td>\n",
       "      <td>20.000000</td>\n",
       "      <td>59.000000</td>\n",
       "      <td>7553.500000</td>\n",
       "      <td>5.000000</td>\n",
       "      <td>5.000000</td>\n",
       "      <td>1954.000000</td>\n",
       "      <td>1967.000000</td>\n",
       "      <td>0.000000</td>\n",
       "      <td>0.000000</td>\n",
       "      <td>...</td>\n",
       "      <td>0.000000</td>\n",
       "      <td>0.000000</td>\n",
       "      <td>0.000000</td>\n",
       "      <td>0.000000</td>\n",
       "      <td>0.000000</td>\n",
       "      <td>0.000000</td>\n",
       "      <td>0.000000</td>\n",
       "      <td>5.000000</td>\n",
       "      <td>2007.000000</td>\n",
       "      <td>129975.000000</td>\n",
       "    </tr>\n",
       "    <tr>\n",
       "      <th>50%</th>\n",
       "      <td>730.500000</td>\n",
       "      <td>50.000000</td>\n",
       "      <td>69.000000</td>\n",
       "      <td>9478.500000</td>\n",
       "      <td>6.000000</td>\n",
       "      <td>5.000000</td>\n",
       "      <td>1973.000000</td>\n",
       "      <td>1994.000000</td>\n",
       "      <td>0.000000</td>\n",
       "      <td>383.500000</td>\n",
       "      <td>...</td>\n",
       "      <td>0.000000</td>\n",
       "      <td>25.000000</td>\n",
       "      <td>0.000000</td>\n",
       "      <td>0.000000</td>\n",
       "      <td>0.000000</td>\n",
       "      <td>0.000000</td>\n",
       "      <td>0.000000</td>\n",
       "      <td>6.000000</td>\n",
       "      <td>2008.000000</td>\n",
       "      <td>163000.000000</td>\n",
       "    </tr>\n",
       "    <tr>\n",
       "      <th>75%</th>\n",
       "      <td>1095.250000</td>\n",
       "      <td>70.000000</td>\n",
       "      <td>80.000000</td>\n",
       "      <td>11601.500000</td>\n",
       "      <td>7.000000</td>\n",
       "      <td>6.000000</td>\n",
       "      <td>2000.000000</td>\n",
       "      <td>2004.000000</td>\n",
       "      <td>166.000000</td>\n",
       "      <td>712.250000</td>\n",
       "      <td>...</td>\n",
       "      <td>168.000000</td>\n",
       "      <td>68.000000</td>\n",
       "      <td>0.000000</td>\n",
       "      <td>0.000000</td>\n",
       "      <td>0.000000</td>\n",
       "      <td>0.000000</td>\n",
       "      <td>0.000000</td>\n",
       "      <td>8.000000</td>\n",
       "      <td>2009.000000</td>\n",
       "      <td>214000.000000</td>\n",
       "    </tr>\n",
       "    <tr>\n",
       "      <th>max</th>\n",
       "      <td>1460.000000</td>\n",
       "      <td>190.000000</td>\n",
       "      <td>313.000000</td>\n",
       "      <td>215245.000000</td>\n",
       "      <td>10.000000</td>\n",
       "      <td>9.000000</td>\n",
       "      <td>2010.000000</td>\n",
       "      <td>2010.000000</td>\n",
       "      <td>1600.000000</td>\n",
       "      <td>5644.000000</td>\n",
       "      <td>...</td>\n",
       "      <td>857.000000</td>\n",
       "      <td>547.000000</td>\n",
       "      <td>552.000000</td>\n",
       "      <td>508.000000</td>\n",
       "      <td>480.000000</td>\n",
       "      <td>738.000000</td>\n",
       "      <td>15500.000000</td>\n",
       "      <td>12.000000</td>\n",
       "      <td>2010.000000</td>\n",
       "      <td>755000.000000</td>\n",
       "    </tr>\n",
       "  </tbody>\n",
       "</table>\n",
       "<p>8 rows × 38 columns</p>\n",
       "</div>"
      ],
      "text/plain": [
       "                Id   MSSubClass  LotFrontage        LotArea  OverallQual  \\\n",
       "count  1460.000000  1460.000000  1201.000000    1460.000000  1460.000000   \n",
       "mean    730.500000    56.897260    70.049958   10516.828082     6.099315   \n",
       "std     421.610009    42.300571    24.284752    9981.264932     1.382997   \n",
       "min       1.000000    20.000000    21.000000    1300.000000     1.000000   \n",
       "25%     365.750000    20.000000    59.000000    7553.500000     5.000000   \n",
       "50%     730.500000    50.000000    69.000000    9478.500000     6.000000   \n",
       "75%    1095.250000    70.000000    80.000000   11601.500000     7.000000   \n",
       "max    1460.000000   190.000000   313.000000  215245.000000    10.000000   \n",
       "\n",
       "       OverallCond    YearBuilt  YearRemodAdd   MasVnrArea   BsmtFinSF1  ...  \\\n",
       "count  1460.000000  1460.000000   1460.000000  1452.000000  1460.000000  ...   \n",
       "mean      5.575342  1971.267808   1984.865753   103.685262   443.639726  ...   \n",
       "std       1.112799    30.202904     20.645407   181.066207   456.098091  ...   \n",
       "min       1.000000  1872.000000   1950.000000     0.000000     0.000000  ...   \n",
       "25%       5.000000  1954.000000   1967.000000     0.000000     0.000000  ...   \n",
       "50%       5.000000  1973.000000   1994.000000     0.000000   383.500000  ...   \n",
       "75%       6.000000  2000.000000   2004.000000   166.000000   712.250000  ...   \n",
       "max       9.000000  2010.000000   2010.000000  1600.000000  5644.000000  ...   \n",
       "\n",
       "        WoodDeckSF  OpenPorchSF  EnclosedPorch    3SsnPorch  ScreenPorch  \\\n",
       "count  1460.000000  1460.000000    1460.000000  1460.000000  1460.000000   \n",
       "mean     94.244521    46.660274      21.954110     3.409589    15.060959   \n",
       "std     125.338794    66.256028      61.119149    29.317331    55.757415   \n",
       "min       0.000000     0.000000       0.000000     0.000000     0.000000   \n",
       "25%       0.000000     0.000000       0.000000     0.000000     0.000000   \n",
       "50%       0.000000    25.000000       0.000000     0.000000     0.000000   \n",
       "75%     168.000000    68.000000       0.000000     0.000000     0.000000   \n",
       "max     857.000000   547.000000     552.000000   508.000000   480.000000   \n",
       "\n",
       "          PoolArea       MiscVal       MoSold       YrSold      SalePrice  \n",
       "count  1460.000000   1460.000000  1460.000000  1460.000000    1460.000000  \n",
       "mean      2.758904     43.489041     6.321918  2007.815753  180921.195890  \n",
       "std      40.177307    496.123024     2.703626     1.328095   79442.502883  \n",
       "min       0.000000      0.000000     1.000000  2006.000000   34900.000000  \n",
       "25%       0.000000      0.000000     5.000000  2007.000000  129975.000000  \n",
       "50%       0.000000      0.000000     6.000000  2008.000000  163000.000000  \n",
       "75%       0.000000      0.000000     8.000000  2009.000000  214000.000000  \n",
       "max     738.000000  15500.000000    12.000000  2010.000000  755000.000000  \n",
       "\n",
       "[8 rows x 38 columns]"
      ]
     },
     "execution_count": 4,
     "metadata": {},
     "output_type": "execute_result"
    }
   ],
   "source": [
    "#taking the statistic summary\n",
    "data.describe()"
   ]
  },
  {
   "cell_type": "code",
   "execution_count": 5,
   "metadata": {},
   "outputs": [
    {
     "data": {
      "text/html": [
       "<div>\n",
       "<style scoped>\n",
       "    .dataframe tbody tr th:only-of-type {\n",
       "        vertical-align: middle;\n",
       "    }\n",
       "\n",
       "    .dataframe tbody tr th {\n",
       "        vertical-align: top;\n",
       "    }\n",
       "\n",
       "    .dataframe thead th {\n",
       "        text-align: right;\n",
       "    }\n",
       "</style>\n",
       "<table border=\"1\" class=\"dataframe\">\n",
       "  <thead>\n",
       "    <tr style=\"text-align: right;\">\n",
       "      <th></th>\n",
       "      <th>Id</th>\n",
       "      <th>MSSubClass</th>\n",
       "      <th>MSZoning</th>\n",
       "      <th>LotFrontage</th>\n",
       "      <th>LotArea</th>\n",
       "      <th>Street</th>\n",
       "      <th>Alley</th>\n",
       "      <th>LotShape</th>\n",
       "      <th>LandContour</th>\n",
       "      <th>Utilities</th>\n",
       "      <th>...</th>\n",
       "      <th>PoolArea</th>\n",
       "      <th>PoolQC</th>\n",
       "      <th>Fence</th>\n",
       "      <th>MiscFeature</th>\n",
       "      <th>MiscVal</th>\n",
       "      <th>MoSold</th>\n",
       "      <th>YrSold</th>\n",
       "      <th>SaleType</th>\n",
       "      <th>SaleCondition</th>\n",
       "      <th>SalePrice</th>\n",
       "    </tr>\n",
       "  </thead>\n",
       "  <tbody>\n",
       "    <tr>\n",
       "      <th>0</th>\n",
       "      <td>1</td>\n",
       "      <td>60</td>\n",
       "      <td>RL</td>\n",
       "      <td>65.0</td>\n",
       "      <td>8450</td>\n",
       "      <td>Pave</td>\n",
       "      <td>NaN</td>\n",
       "      <td>Reg</td>\n",
       "      <td>Lvl</td>\n",
       "      <td>AllPub</td>\n",
       "      <td>...</td>\n",
       "      <td>0</td>\n",
       "      <td>NaN</td>\n",
       "      <td>NaN</td>\n",
       "      <td>NaN</td>\n",
       "      <td>0</td>\n",
       "      <td>2</td>\n",
       "      <td>2008</td>\n",
       "      <td>WD</td>\n",
       "      <td>Normal</td>\n",
       "      <td>208500</td>\n",
       "    </tr>\n",
       "    <tr>\n",
       "      <th>1</th>\n",
       "      <td>2</td>\n",
       "      <td>20</td>\n",
       "      <td>RL</td>\n",
       "      <td>80.0</td>\n",
       "      <td>9600</td>\n",
       "      <td>Pave</td>\n",
       "      <td>NaN</td>\n",
       "      <td>Reg</td>\n",
       "      <td>Lvl</td>\n",
       "      <td>AllPub</td>\n",
       "      <td>...</td>\n",
       "      <td>0</td>\n",
       "      <td>NaN</td>\n",
       "      <td>NaN</td>\n",
       "      <td>NaN</td>\n",
       "      <td>0</td>\n",
       "      <td>5</td>\n",
       "      <td>2007</td>\n",
       "      <td>WD</td>\n",
       "      <td>Normal</td>\n",
       "      <td>181500</td>\n",
       "    </tr>\n",
       "    <tr>\n",
       "      <th>2</th>\n",
       "      <td>3</td>\n",
       "      <td>60</td>\n",
       "      <td>RL</td>\n",
       "      <td>68.0</td>\n",
       "      <td>11250</td>\n",
       "      <td>Pave</td>\n",
       "      <td>NaN</td>\n",
       "      <td>IR1</td>\n",
       "      <td>Lvl</td>\n",
       "      <td>AllPub</td>\n",
       "      <td>...</td>\n",
       "      <td>0</td>\n",
       "      <td>NaN</td>\n",
       "      <td>NaN</td>\n",
       "      <td>NaN</td>\n",
       "      <td>0</td>\n",
       "      <td>9</td>\n",
       "      <td>2008</td>\n",
       "      <td>WD</td>\n",
       "      <td>Normal</td>\n",
       "      <td>223500</td>\n",
       "    </tr>\n",
       "    <tr>\n",
       "      <th>3</th>\n",
       "      <td>4</td>\n",
       "      <td>70</td>\n",
       "      <td>RL</td>\n",
       "      <td>60.0</td>\n",
       "      <td>9550</td>\n",
       "      <td>Pave</td>\n",
       "      <td>NaN</td>\n",
       "      <td>IR1</td>\n",
       "      <td>Lvl</td>\n",
       "      <td>AllPub</td>\n",
       "      <td>...</td>\n",
       "      <td>0</td>\n",
       "      <td>NaN</td>\n",
       "      <td>NaN</td>\n",
       "      <td>NaN</td>\n",
       "      <td>0</td>\n",
       "      <td>2</td>\n",
       "      <td>2006</td>\n",
       "      <td>WD</td>\n",
       "      <td>Abnorml</td>\n",
       "      <td>140000</td>\n",
       "    </tr>\n",
       "    <tr>\n",
       "      <th>4</th>\n",
       "      <td>5</td>\n",
       "      <td>60</td>\n",
       "      <td>RL</td>\n",
       "      <td>84.0</td>\n",
       "      <td>14260</td>\n",
       "      <td>Pave</td>\n",
       "      <td>NaN</td>\n",
       "      <td>IR1</td>\n",
       "      <td>Lvl</td>\n",
       "      <td>AllPub</td>\n",
       "      <td>...</td>\n",
       "      <td>0</td>\n",
       "      <td>NaN</td>\n",
       "      <td>NaN</td>\n",
       "      <td>NaN</td>\n",
       "      <td>0</td>\n",
       "      <td>12</td>\n",
       "      <td>2008</td>\n",
       "      <td>WD</td>\n",
       "      <td>Normal</td>\n",
       "      <td>250000</td>\n",
       "    </tr>\n",
       "  </tbody>\n",
       "</table>\n",
       "<p>5 rows × 81 columns</p>\n",
       "</div>"
      ],
      "text/plain": [
       "   Id  MSSubClass MSZoning  LotFrontage  LotArea Street Alley LotShape  \\\n",
       "0   1          60       RL         65.0     8450   Pave   NaN      Reg   \n",
       "1   2          20       RL         80.0     9600   Pave   NaN      Reg   \n",
       "2   3          60       RL         68.0    11250   Pave   NaN      IR1   \n",
       "3   4          70       RL         60.0     9550   Pave   NaN      IR1   \n",
       "4   5          60       RL         84.0    14260   Pave   NaN      IR1   \n",
       "\n",
       "  LandContour Utilities  ... PoolArea PoolQC Fence MiscFeature MiscVal MoSold  \\\n",
       "0         Lvl    AllPub  ...        0    NaN   NaN         NaN       0      2   \n",
       "1         Lvl    AllPub  ...        0    NaN   NaN         NaN       0      5   \n",
       "2         Lvl    AllPub  ...        0    NaN   NaN         NaN       0      9   \n",
       "3         Lvl    AllPub  ...        0    NaN   NaN         NaN       0      2   \n",
       "4         Lvl    AllPub  ...        0    NaN   NaN         NaN       0     12   \n",
       "\n",
       "  YrSold  SaleType  SaleCondition  SalePrice  \n",
       "0   2008        WD         Normal     208500  \n",
       "1   2007        WD         Normal     181500  \n",
       "2   2008        WD         Normal     223500  \n",
       "3   2006        WD        Abnorml     140000  \n",
       "4   2008        WD         Normal     250000  \n",
       "\n",
       "[5 rows x 81 columns]"
      ]
     },
     "execution_count": 5,
     "metadata": {},
     "output_type": "execute_result"
    }
   ],
   "source": [
    "data.head()"
   ]
  },
  {
   "cell_type": "markdown",
   "metadata": {},
   "source": [
    "# [5] Pre-processing the datasets and cleaning them "
   ]
  },
  {
   "cell_type": "code",
   "execution_count": 6,
   "metadata": {
    "scrolled": true
   },
   "outputs": [
    {
     "data": {
      "image/png": "[encoded data removed]",
      "text/plain": [
       "<Figure size 432x288 with 1 Axes>"
      ]
     },
     "metadata": {
      "needs_background": "light"
     },
     "output_type": "display_data"
    }
   ],
   "source": [
    "#plotting the histogram\n",
    "sns.distplot(data['SalePrice']);"
   ]
  },
  {
   "cell_type": "markdown",
   "metadata": {},
   "source": [
    "We observe the following: 1. Non-Normality, 2.Left skewed "
   ]
  },
  {
   "cell_type": "markdown",
   "metadata": {},
   "source": [
    "# [6] Handling missing data"
   ]
  },
  {
   "cell_type": "code",
   "execution_count": 7,
   "metadata": {},
   "outputs": [
    {
     "data": {
      "text/plain": [
       "LotFrontage      259\n",
       "Alley           1369\n",
       "MasVnrType         8\n",
       "MasVnrArea         8\n",
       "BsmtQual          37\n",
       "BsmtCond          37\n",
       "BsmtExposure      38\n",
       "BsmtFinType1      37\n",
       "BsmtFinType2      38\n",
       "Electrical         1\n",
       "FireplaceQu      690\n",
       "GarageType        81\n",
       "GarageYrBlt       81\n",
       "GarageFinish      81\n",
       "GarageQual        81\n",
       "GarageCond        81\n",
       "PoolQC          1453\n",
       "Fence           1179\n",
       "MiscFeature     1406\n",
       "dtype: int64"
      ]
     },
     "execution_count": 7,
     "metadata": {},
     "output_type": "execute_result"
    }
   ],
   "source": [
    "null_columns=data.columns[data.isnull().any()]\n",
    "data[null_columns].isnull().sum()"
   ]
  },
  {
   "cell_type": "code",
   "execution_count": 8,
   "metadata": {
    "scrolled": true
   },
   "outputs": [
    {
     "data": {
      "text/plain": [
       "<matplotlib.axes._subplots.AxesSubplot at 0x1bb931fc208>"
      ]
     },
     "execution_count": 8,
     "metadata": {},
     "output_type": "execute_result"
    },
    {
     "data": {
      "image/png": "[encoded data removed]",
      "text/plain": [
       "<Figure size 1800x720 with 2 Axes>"
      ]
     },
     "metadata": {
      "needs_background": "light"
     },
     "output_type": "display_data"
    }
   ],
   "source": [
    "import missingno as msno\n",
    "msno.matrix(data)"
   ]
  },
  {
   "cell_type": "markdown",
   "metadata": {},
   "source": [
    "# [7] Imputing missing data"
   ]
  },
  {
   "cell_type": "code",
   "execution_count": 79,
   "metadata": {},
   "outputs": [],
   "source": [
    "#filling NA's of continuous variables with the mean of the column:\n",
    "data['LotFrontage'].fillna((data['LotFrontage'].mean()), inplace=True)\n",
    "data['MasVnrArea'].fillna((data['MasVnrArea'].mean()), inplace=True)\n",
    "data['GarageYrBlt'].fillna((data['GarageYrBlt'].mean()), inplace=True)"
   ]
  },
  {
   "cell_type": "code",
   "execution_count": 80,
   "metadata": {},
   "outputs": [
    {
     "data": {
      "text/plain": [
       "Alley           1369\n",
       "MasVnrType         8\n",
       "BsmtQual          37\n",
       "BsmtCond          37\n",
       "BsmtExposure      38\n",
       "BsmtFinType1      37\n",
       "BsmtFinType2      38\n",
       "Electrical         1\n",
       "FireplaceQu      690\n",
       "GarageType        81\n",
       "GarageFinish      81\n",
       "GarageQual        81\n",
       "GarageCond        81\n",
       "PoolQC          1453\n",
       "Fence           1179\n",
       "MiscFeature     1406\n",
       "dtype: int64"
      ]
     },
     "execution_count": 80,
     "metadata": {},
     "output_type": "execute_result"
    }
   ],
   "source": [
    "null_columns=data.columns[data.isnull().any()]\n",
    "data[null_columns].isnull().sum()"
   ]
  },
  {
   "cell_type": "code",
   "execution_count": 81,
   "metadata": {},
   "outputs": [
    {
     "data": {
      "text/plain": [
       "(1338, 76)"
      ]
     },
     "execution_count": 81,
     "metadata": {},
     "output_type": "execute_result"
    }
   ],
   "source": [
    "data = data.drop(columns=['Alley','FireplaceQu','PoolQC','Fence','MiscFeature'],axis=1)\n",
    "data =data.dropna()\n",
    "data.shape"
   ]
  },
  {
   "cell_type": "code",
   "execution_count": 82,
   "metadata": {},
   "outputs": [],
   "source": [
    "cat = []\n",
    "\n",
    "for i in data.columns:\n",
    "    if data[i].dtype == 'O':\n",
    "        cat.append(i)"
   ]
  },
  {
   "cell_type": "code",
   "execution_count": 83,
   "metadata": {},
   "outputs": [
    {
     "name": "stdout",
     "output_type": "stream",
     "text": [
      "Encoding MSZoning\n",
      "Encoding Street\n",
      "Encoding LotShape\n",
      "Encoding LandContour\n",
      "Encoding Utilities\n",
      "Encoding LotConfig\n",
      "Encoding LandSlope\n",
      "Encoding Neighborhood\n",
      "Encoding Condition1\n",
      "Encoding Condition2\n",
      "Encoding BldgType\n",
      "Encoding HouseStyle\n",
      "Encoding RoofStyle\n",
      "Encoding RoofMatl\n",
      "Encoding Exterior1st\n",
      "Encoding Exterior2nd\n",
      "Encoding MasVnrType\n",
      "Encoding ExterQual\n",
      "Encoding ExterCond\n",
      "Encoding Foundation\n",
      "Encoding BsmtQual\n",
      "Encoding BsmtCond\n",
      "Encoding BsmtExposure\n",
      "Encoding BsmtFinType1\n",
      "Encoding BsmtFinType2\n",
      "Encoding Heating\n",
      "Encoding HeatingQC\n",
      "Encoding CentralAir\n",
      "Encoding Electrical\n",
      "Encoding KitchenQual\n",
      "Encoding Functional\n",
      "Encoding GarageType\n",
      "Encoding GarageFinish\n",
      "Encoding GarageQual\n",
      "Encoding GarageCond\n",
      "Encoding PavedDrive\n",
      "Encoding SaleType\n",
      "Encoding SaleCondition\n"
     ]
    }
   ],
   "source": [
    "from sklearn.preprocessing import LabelEncoder\n",
    "le = LabelEncoder()\n",
    "\n",
    "for i in cat:\n",
    "    print(\"Encoding\",i)\n",
    "    data[i] = le.fit_transform(data[i])"
   ]
  },
  {
   "cell_type": "code",
   "execution_count": 84,
   "metadata": {},
   "outputs": [
    {
     "data": {
      "text/plain": [
       "(1338, 76)"
      ]
     },
     "execution_count": 84,
     "metadata": {},
     "output_type": "execute_result"
    }
   ],
   "source": [
    "data.shape"
   ]
  },
  {
   "cell_type": "code",
   "execution_count": 85,
   "metadata": {},
   "outputs": [
    {
     "name": "stdout",
     "output_type": "stream",
     "text": [
      "<class 'pandas.core.frame.DataFrame'>\n",
      "Int64Index: 1338 entries, 0 to 1459\n",
      "Data columns (total 76 columns):\n",
      "Id               1338 non-null int64\n",
      "MSSubClass       1338 non-null int64\n",
      "MSZoning         1338 non-null int32\n",
      "LotFrontage      1338 non-null float64\n",
      "LotArea          1338 non-null int64\n",
      "Street           1338 non-null int32\n",
      "LotShape         1338 non-null int32\n",
      "LandContour      1338 non-null int32\n",
      "Utilities        1338 non-null int32\n",
      "LotConfig        1338 non-null int32\n",
      "LandSlope        1338 non-null int32\n",
      "Neighborhood     1338 non-null int32\n",
      "Condition1       1338 non-null int32\n",
      "Condition2       1338 non-null int32\n",
      "BldgType         1338 non-null int32\n",
      "HouseStyle       1338 non-null int32\n",
      "OverallQual      1338 non-null int64\n",
      "OverallCond      1338 non-null int64\n",
      "YearBuilt        1338 non-null int64\n",
      "YearRemodAdd     1338 non-null int64\n",
      "RoofStyle        1338 non-null int32\n",
      "RoofMatl         1338 non-null int32\n",
      "Exterior1st      1338 non-null int32\n",
      "Exterior2nd      1338 non-null int32\n",
      "MasVnrType       1338 non-null int32\n",
      "MasVnrArea       1338 non-null float64\n",
      "ExterQual        1338 non-null int32\n",
      "ExterCond        1338 non-null int32\n",
      "Foundation       1338 non-null int32\n",
      "BsmtQual         1338 non-null int32\n",
      "BsmtCond         1338 non-null int32\n",
      "BsmtExposure     1338 non-null int32\n",
      "BsmtFinType1     1338 non-null int32\n",
      "BsmtFinSF1       1338 non-null int64\n",
      "BsmtFinType2     1338 non-null int32\n",
      "BsmtFinSF2       1338 non-null int64\n",
      "BsmtUnfSF        1338 non-null int64\n",
      "TotalBsmtSF      1338 non-null int64\n",
      "Heating          1338 non-null int32\n",
      "HeatingQC        1338 non-null int32\n",
      "CentralAir       1338 non-null int32\n",
      "Electrical       1338 non-null int32\n",
      "1stFlrSF         1338 non-null int64\n",
      "2ndFlrSF         1338 non-null int64\n",
      "LowQualFinSF     1338 non-null int64\n",
      "GrLivArea        1338 non-null int64\n",
      "BsmtFullBath     1338 non-null int64\n",
      "BsmtHalfBath     1338 non-null int64\n",
      "FullBath         1338 non-null int64\n",
      "HalfBath         1338 non-null int64\n",
      "BedroomAbvGr     1338 non-null int64\n",
      "KitchenAbvGr     1338 non-null int64\n",
      "KitchenQual      1338 non-null int32\n",
      "TotRmsAbvGrd     1338 non-null int64\n",
      "Functional       1338 non-null int32\n",
      "Fireplaces       1338 non-null int64\n",
      "GarageType       1338 non-null int32\n",
      "GarageYrBlt      1338 non-null float64\n",
      "GarageFinish     1338 non-null int32\n",
      "GarageCars       1338 non-null int64\n",
      "GarageArea       1338 non-null int64\n",
      "GarageQual       1338 non-null int32\n",
      "GarageCond       1338 non-null int32\n",
      "PavedDrive       1338 non-null int32\n",
      "WoodDeckSF       1338 non-null int64\n",
      "OpenPorchSF      1338 non-null int64\n",
      "EnclosedPorch    1338 non-null int64\n",
      "3SsnPorch        1338 non-null int64\n",
      "ScreenPorch      1338 non-null int64\n",
      "PoolArea         1338 non-null int64\n",
      "MiscVal          1338 non-null int64\n",
      "MoSold           1338 non-null int64\n",
      "YrSold           1338 non-null int64\n",
      "SaleType         1338 non-null int32\n",
      "SaleCondition    1338 non-null int32\n",
      "SalePrice        1338 non-null int64\n",
      "dtypes: float64(3), int32(38), int64(35)\n",
      "memory usage: 606.3 KB\n"
     ]
    }
   ],
   "source": [
    "data.info()"
   ]
  },
  {
   "cell_type": "markdown",
   "metadata": {},
   "source": [
    "# [8] Making the train test split"
   ]
  },
  {
   "cell_type": "code",
   "execution_count": 86,
   "metadata": {},
   "outputs": [
    {
     "name": "stdout",
     "output_type": "stream",
     "text": [
      "(936, 75)\n",
      "(936,)\n",
      "(402, 75)\n",
      "(402,)\n"
     ]
    }
   ],
   "source": [
    "from sklearn.preprocessing import MinMaxScaler,StandardScaler\n",
    "\n",
    "## Splitting data\n",
    "\n",
    "from sklearn.model_selection import train_test_split\n",
    "\n",
    "X=data.drop(columns=['SalePrice'],axis=1)\n",
    "y =data['SalePrice']\n",
    "\n",
    "X_train_org, X_test_org, y_train, y_test = train_test_split(X,y, test_size=0.3, random_state = 0)\n",
    "\n",
    "scaler = MinMaxScaler()\n",
    "X_train = scaler.fit_transform(X_train_org)\n",
    "X_test = scaler.transform(X_test_org)\n",
    "\n",
    "print(X_train.shape)\n",
    "print(y_train.shape)\n",
    "print(X_test.shape)\n",
    "print(y_test.shape)"
   ]
  },
  {
   "cell_type": "markdown",
   "metadata": {},
   "source": [
    "# Regression Task:\n",
    "- Apply all the regression models you've learned so far. If your model has a scaling parameter(s) use Grid Search to find the best scaling parameter. Use plots and graphs to help you get a better glimpse of the results. \n",
    "- Then use cross validation to find average training and testing score. \n",
    "- Your submission should have at least the following regression models: KNN regressor, linear regression, Ridge, Lasso, polynomial regression, SVM both simple and with kernels. \n",
    "- Finally find the best regressor for this dataset and train your model on the entire dataset using the best parameters and predict buzz for the test_set."
   ]
  },
  {
   "cell_type": "markdown",
   "metadata": {},
   "source": [
    "# [1] Linear Regression"
   ]
  },
  {
   "cell_type": "code",
   "execution_count": 87,
   "metadata": {
    "scrolled": true
   },
   "outputs": [
    {
     "data": {
      "text/plain": [
       "LinearRegression(copy_X=True, fit_intercept=True, n_jobs=None, normalize=False)"
      ]
     },
     "execution_count": 87,
     "metadata": {},
     "output_type": "execute_result"
    }
   ],
   "source": [
    "lreg = LinearRegression()\n",
    "lreg.fit(X_train, y_train)"
   ]
  },
  {
   "cell_type": "code",
   "execution_count": 88,
   "metadata": {},
   "outputs": [],
   "source": [
    "test = test.drop(columns=['Alley','FireplaceQu','PoolQC','Fence','MiscFeature'],axis=1)"
   ]
  },
  {
   "cell_type": "code",
   "execution_count": 89,
   "metadata": {},
   "outputs": [],
   "source": [
    "test=test.fillna(test.mean())"
   ]
  },
  {
   "cell_type": "code",
   "execution_count": 90,
   "metadata": {},
   "outputs": [
    {
     "data": {
      "text/plain": [
       "(1319, 75)"
      ]
     },
     "execution_count": 90,
     "metadata": {},
     "output_type": "execute_result"
    }
   ],
   "source": [
    "test = test.dropna()\n",
    "test.shape"
   ]
  },
  {
   "cell_type": "code",
   "execution_count": 91,
   "metadata": {},
   "outputs": [
    {
     "name": "stdout",
     "output_type": "stream",
     "text": [
      "Encoding MSZoning\n",
      "Encoding Street\n",
      "Encoding LotShape\n",
      "Encoding LandContour\n",
      "Encoding Utilities\n",
      "Encoding LotConfig\n",
      "Encoding LandSlope\n",
      "Encoding Neighborhood\n",
      "Encoding Condition1\n",
      "Encoding Condition2\n",
      "Encoding BldgType\n",
      "Encoding HouseStyle\n",
      "Encoding RoofStyle\n",
      "Encoding RoofMatl\n",
      "Encoding Exterior1st\n",
      "Encoding Exterior2nd\n",
      "Encoding MasVnrType\n",
      "Encoding ExterQual\n",
      "Encoding ExterCond\n",
      "Encoding Foundation\n",
      "Encoding BsmtQual\n",
      "Encoding BsmtCond\n",
      "Encoding BsmtExposure\n",
      "Encoding BsmtFinType1\n",
      "Encoding BsmtFinType2\n",
      "Encoding Heating\n",
      "Encoding HeatingQC\n",
      "Encoding CentralAir\n",
      "Encoding Electrical\n",
      "Encoding KitchenQual\n",
      "Encoding Functional\n",
      "Encoding GarageType\n",
      "Encoding GarageFinish\n",
      "Encoding GarageQual\n",
      "Encoding GarageCond\n",
      "Encoding PavedDrive\n",
      "Encoding SaleType\n",
      "Encoding SaleCondition\n"
     ]
    }
   ],
   "source": [
    "for i in cat:\n",
    "    print(\"Encoding\",i)\n",
    "    test[i] = le.fit_transform(test[i])"
   ]
  },
  {
   "cell_type": "code",
   "execution_count": 92,
   "metadata": {},
   "outputs": [
    {
     "data": {
      "text/html": [
       "<div>\n",
       "<style scoped>\n",
       "    .dataframe tbody tr th:only-of-type {\n",
       "        vertical-align: middle;\n",
       "    }\n",
       "\n",
       "    .dataframe tbody tr th {\n",
       "        vertical-align: top;\n",
       "    }\n",
       "\n",
       "    .dataframe thead th {\n",
       "        text-align: right;\n",
       "    }\n",
       "</style>\n",
       "<table border=\"1\" class=\"dataframe\">\n",
       "  <thead>\n",
       "    <tr style=\"text-align: right;\">\n",
       "      <th></th>\n",
       "      <th>Id</th>\n",
       "      <th>MSSubClass</th>\n",
       "      <th>MSZoning</th>\n",
       "      <th>LotFrontage</th>\n",
       "      <th>LotArea</th>\n",
       "      <th>Street</th>\n",
       "      <th>LotShape</th>\n",
       "      <th>LandContour</th>\n",
       "      <th>Utilities</th>\n",
       "      <th>LotConfig</th>\n",
       "      <th>...</th>\n",
       "      <th>EnclosedPorch</th>\n",
       "      <th>3SsnPorch</th>\n",
       "      <th>ScreenPorch</th>\n",
       "      <th>PoolArea</th>\n",
       "      <th>MiscVal</th>\n",
       "      <th>MoSold</th>\n",
       "      <th>YrSold</th>\n",
       "      <th>SaleType</th>\n",
       "      <th>SaleCondition</th>\n",
       "      <th>SalePrice</th>\n",
       "    </tr>\n",
       "  </thead>\n",
       "  <tbody>\n",
       "    <tr>\n",
       "      <th>0</th>\n",
       "      <td>1461</td>\n",
       "      <td>20</td>\n",
       "      <td>2</td>\n",
       "      <td>80.0</td>\n",
       "      <td>11622</td>\n",
       "      <td>1</td>\n",
       "      <td>3</td>\n",
       "      <td>3</td>\n",
       "      <td>0</td>\n",
       "      <td>4</td>\n",
       "      <td>...</td>\n",
       "      <td>0</td>\n",
       "      <td>0</td>\n",
       "      <td>120</td>\n",
       "      <td>0</td>\n",
       "      <td>0</td>\n",
       "      <td>6</td>\n",
       "      <td>2010</td>\n",
       "      <td>8</td>\n",
       "      <td>4</td>\n",
       "      <td>3.033840e+20</td>\n",
       "    </tr>\n",
       "    <tr>\n",
       "      <th>1</th>\n",
       "      <td>1462</td>\n",
       "      <td>20</td>\n",
       "      <td>3</td>\n",
       "      <td>81.0</td>\n",
       "      <td>14267</td>\n",
       "      <td>1</td>\n",
       "      <td>0</td>\n",
       "      <td>3</td>\n",
       "      <td>0</td>\n",
       "      <td>0</td>\n",
       "      <td>...</td>\n",
       "      <td>0</td>\n",
       "      <td>0</td>\n",
       "      <td>0</td>\n",
       "      <td>0</td>\n",
       "      <td>12500</td>\n",
       "      <td>6</td>\n",
       "      <td>2010</td>\n",
       "      <td>8</td>\n",
       "      <td>4</td>\n",
       "      <td>4.530868e+20</td>\n",
       "    </tr>\n",
       "    <tr>\n",
       "      <th>2</th>\n",
       "      <td>1463</td>\n",
       "      <td>60</td>\n",
       "      <td>3</td>\n",
       "      <td>74.0</td>\n",
       "      <td>13830</td>\n",
       "      <td>1</td>\n",
       "      <td>0</td>\n",
       "      <td>3</td>\n",
       "      <td>0</td>\n",
       "      <td>4</td>\n",
       "      <td>...</td>\n",
       "      <td>0</td>\n",
       "      <td>0</td>\n",
       "      <td>0</td>\n",
       "      <td>0</td>\n",
       "      <td>0</td>\n",
       "      <td>3</td>\n",
       "      <td>2010</td>\n",
       "      <td>8</td>\n",
       "      <td>4</td>\n",
       "      <td>7.071262e+20</td>\n",
       "    </tr>\n",
       "    <tr>\n",
       "      <th>3</th>\n",
       "      <td>1464</td>\n",
       "      <td>60</td>\n",
       "      <td>3</td>\n",
       "      <td>78.0</td>\n",
       "      <td>9978</td>\n",
       "      <td>1</td>\n",
       "      <td>0</td>\n",
       "      <td>3</td>\n",
       "      <td>0</td>\n",
       "      <td>4</td>\n",
       "      <td>...</td>\n",
       "      <td>0</td>\n",
       "      <td>0</td>\n",
       "      <td>0</td>\n",
       "      <td>0</td>\n",
       "      <td>0</td>\n",
       "      <td>6</td>\n",
       "      <td>2010</td>\n",
       "      <td>8</td>\n",
       "      <td>4</td>\n",
       "      <td>6.942451e+20</td>\n",
       "    </tr>\n",
       "    <tr>\n",
       "      <th>4</th>\n",
       "      <td>1465</td>\n",
       "      <td>120</td>\n",
       "      <td>3</td>\n",
       "      <td>43.0</td>\n",
       "      <td>5005</td>\n",
       "      <td>1</td>\n",
       "      <td>0</td>\n",
       "      <td>1</td>\n",
       "      <td>0</td>\n",
       "      <td>4</td>\n",
       "      <td>...</td>\n",
       "      <td>0</td>\n",
       "      <td>0</td>\n",
       "      <td>144</td>\n",
       "      <td>0</td>\n",
       "      <td>0</td>\n",
       "      <td>1</td>\n",
       "      <td>2010</td>\n",
       "      <td>8</td>\n",
       "      <td>4</td>\n",
       "      <td>4.385091e+20</td>\n",
       "    </tr>\n",
       "  </tbody>\n",
       "</table>\n",
       "<p>5 rows × 76 columns</p>\n",
       "</div>"
      ],
      "text/plain": [
       "     Id  MSSubClass  MSZoning  LotFrontage  LotArea  Street  LotShape  \\\n",
       "0  1461          20         2         80.0    11622       1         3   \n",
       "1  1462          20         3         81.0    14267       1         0   \n",
       "2  1463          60         3         74.0    13830       1         0   \n",
       "3  1464          60         3         78.0     9978       1         0   \n",
       "4  1465         120         3         43.0     5005       1         0   \n",
       "\n",
       "   LandContour  Utilities  LotConfig  ...  EnclosedPorch  3SsnPorch  \\\n",
       "0            3          0          4  ...              0          0   \n",
       "1            3          0          0  ...              0          0   \n",
       "2            3          0          4  ...              0          0   \n",
       "3            3          0          4  ...              0          0   \n",
       "4            1          0          4  ...              0          0   \n",
       "\n",
       "   ScreenPorch  PoolArea  MiscVal  MoSold  YrSold  SaleType  SaleCondition  \\\n",
       "0          120         0        0       6    2010         8              4   \n",
       "1            0         0    12500       6    2010         8              4   \n",
       "2            0         0        0       3    2010         8              4   \n",
       "3            0         0        0       6    2010         8              4   \n",
       "4          144         0        0       1    2010         8              4   \n",
       "\n",
       "      SalePrice  \n",
       "0  3.033840e+20  \n",
       "1  4.530868e+20  \n",
       "2  7.071262e+20  \n",
       "3  6.942451e+20  \n",
       "4  4.385091e+20  \n",
       "\n",
       "[5 rows x 76 columns]"
      ]
     },
     "execution_count": 92,
     "metadata": {},
     "output_type": "execute_result"
    }
   ],
   "source": [
    "test_pred = lreg.predict(test)\n",
    "test['SalePrice']=test_pred\n",
    "test.head(5)"
   ]
  },
  {
   "cell_type": "code",
   "execution_count": 93,
   "metadata": {},
   "outputs": [
    {
     "name": "stdout",
     "output_type": "stream",
     "text": [
      "Train score: 90.3704 %\n",
      "Test score: 52.3518 %\n",
      "RMSE: 53544.8847\n",
      "r2_score :  0.5235182719983205\n"
     ]
    }
   ],
   "source": [
    "from sklearn.metrics import mean_squared_error\n",
    "pred_linear = lreg.predict(X_test)\n",
    "\n",
    "print('Train score: {:.4f} %'.format(lreg.score(X_train, y_train)*100))\n",
    "print('Test score: {:.4f} %'.format(lreg.score(X_test, y_test)*100))\n",
    "\n",
    "print('RMSE: {:.4f}'.format(np.sqrt(mean_squared_error(y_test,pred_linear))))\n",
    "print (\"r2_score : \", lreg.score(X_test,y_test))\n"
   ]
  },
  {
   "cell_type": "markdown",
   "metadata": {},
   "source": [
    "Linear Regression Model is overfitting the data and r2_square shows that 52% of the data can be explained by the features."
   ]
  },
  {
   "cell_type": "markdown",
   "metadata": {},
   "source": [
    "### Cross Validation - Linear Regression"
   ]
  },
  {
   "cell_type": "code",
   "execution_count": 94,
   "metadata": {},
   "outputs": [
    {
     "name": "stdout",
     "output_type": "stream",
     "text": [
      "Cross-validation scores_train: [-2.90024079e+23  8.49634914e-01  8.47169927e-01]\n",
      "Cross-validation scores_test: [1.92792000e+05 1.03192000e+05 1.39672000e+05 1.38392000e+05\n",
      " 1.81024000e+05 1.87160000e+05 2.27480000e+05 2.06744000e+05\n",
      " 1.28664000e+05 1.78968000e+05 2.01752000e+05 1.12728000e+05\n",
      " 4.04080000e+04 1.76408000e+05 2.08544000e+05 1.39032000e+05\n",
      " 2.02264000e+05 2.92256000e+05 1.68280000e+05 1.33184000e+05\n",
      " 1.86072000e+05 2.56024000e+05 1.35064000e+05 2.03168000e+05\n",
      " 1.89976000e+05 4.67616000e+05 2.51160000e+05 1.39320000e+05\n",
      " 1.96216000e+05 2.88920000e+05 2.05336000e+05 2.75736000e+05\n",
      " 1.66232000e+05 2.15576000e+05 2.10200000e+05 2.19672000e+05\n",
      " 1.17976000e+05 2.96216000e+05 1.19296000e+05 1.79192000e+05\n",
      " 2.32984000e+05 3.12216000e+05 1.65272000e+05 4.54048000e+05\n",
      " 1.56696000e+05 1.18168000e+05 2.51416000e+05 2.58968000e+05\n",
      " 1.45816000e+05 1.06840000e+05 2.24664000e+05 2.90648000e+05\n",
      " 2.90584000e+05 2.53848000e+05 2.10000000e+05 2.08920000e+05\n",
      " 1.73576000e+05 1.80568000e+05 8.62320000e+04 1.62136000e+05\n",
      " 1.90168000e+05 2.13144000e+05 1.31928000e+05 2.00984000e+05\n",
      " 2.08728000e+05 1.78968000e+05 1.31328000e+05 2.61720000e+05\n",
      " 2.04056000e+05 1.23064000e+05 2.32800000e+03 1.70968000e+05\n",
      " 1.57624000e+05 1.76952000e+05 7.89120000e+04 2.13528000e+05\n",
      " 1.03936000e+05 1.04536000e+05 2.45656000e+05 1.77336000e+05\n",
      " 1.92536000e+05 2.44360000e+05 2.97880000e+05 1.67192000e+05\n",
      " 2.11616000e+05 2.06232000e+05 1.44440000e+05 1.98104000e+05\n",
      " 1.97440000e+05 3.44608000e+05 9.10960000e+04 6.91440000e+04\n",
      " 2.22488000e+05 1.86520000e+05 1.37368000e+05 1.49912000e+05\n",
      " 3.29688000e+05 2.52696000e+05 2.62616000e+05 1.22240000e+05\n",
      " 1.48248000e+05 2.79064000e+05 1.40184000e+05 2.24000000e+05\n",
      " 3.26040000e+05 1.58616000e+05 1.67896000e+05 1.50552000e+05\n",
      " 2.30808000e+05 3.28984000e+05 2.11840000e+05 1.55000000e+05\n",
      " 1.15352000e+05 6.95680000e+04 1.63864000e+05 1.76472000e+05\n",
      " 1.64888000e+05 1.28024000e+05 7.50960000e+04 1.37496000e+05\n",
      " 1.04088000e+05 2.15320000e+05 1.67320000e+05 3.75968000e+05\n",
      " 1.79992000e+05 3.28472000e+05 4.39832000e+05 1.35160000e+05\n",
      " 9.64080000e+04 1.38392000e+05 1.32696000e+05 1.93816000e+05\n",
      " 8.28400000e+04 1.63288000e+05 1.54357000e+05 1.15707000e+05\n",
      " 1.12349000e+05 2.45240000e+05 8.01010000e+04 2.07413000e+05\n",
      " 2.07053000e+05 2.25741000e+05 5.19184000e+05 1.92325000e+05\n",
      " 3.03056000e+05 1.68733000e+05 1.67933000e+05 2.19149000e+05\n",
      " 1.43421000e+05 1.67941000e+05 2.26069000e+05 1.47693000e+05\n",
      " 2.87165000e+05 1.06637000e+05 1.55965000e+05 2.37565000e+05\n",
      " 2.68461000e+05 3.47797000e+05 2.32208000e+05 1.47445000e+05\n",
      " 2.89757000e+05 2.69623000e+05 2.96130000e+04 5.05830000e+04\n",
      " 7.18370000e+04 9.14290000e+04 6.43670000e+04 1.37273000e+05\n",
      " 1.67669000e+05 1.45607000e+05 2.98669000e+05 2.37709000e+05\n",
      " 1.57437000e+05 2.78525000e+05 3.33392000e+05 2.57445000e+05\n",
      " 1.17053000e+05 1.44197000e+05 2.05501000e+05 2.24997000e+05\n",
      " 1.58637000e+05 2.59877000e+05 1.03733000e+05 1.77693000e+05\n",
      " 1.18980000e+05 2.12941000e+05 1.90157000e+05 2.39205000e+05\n",
      " 3.59909000e+05 2.35085000e+05 2.05453000e+05 1.43925000e+05\n",
      " 8.55080000e+04 1.94157000e+05 1.98101000e+05 1.58261000e+05\n",
      " 1.56455000e+05 1.84237000e+05 1.20365000e+05 2.69749000e+05\n",
      " 2.18237000e+05 1.33157000e+05 1.89437000e+05 1.66393000e+05\n",
      " 3.25350000e+04 1.46733000e+05 2.01341000e+05 1.77397000e+05\n",
      " 1.31869000e+05 2.16485000e+05 1.33135000e+05 1.99989000e+05\n",
      " 1.21293000e+05 1.16845000e+05 1.74325000e+05 1.77640000e+05\n",
      " 1.85253000e+05 1.97725000e+05 2.52701000e+05 1.00293000e+05\n",
      " 1.93645000e+05 1.79325000e+05 2.28853000e+05 1.72844000e+05\n",
      " 1.35573000e+05 2.30392000e+05 1.05333000e+05 1.89472000e+05\n",
      " 2.20189000e+05 1.66109000e+05 1.30333000e+05 1.16023000e+05\n",
      " 1.63365000e+05 2.54136000e+05 2.57912000e+05 1.31447000e+05\n",
      " 2.01981000e+05 1.22757000e+05 3.15384000e+05 2.79541000e+05\n",
      " 2.63909000e+05 1.65229000e+05 2.44669000e+05 1.26532000e+05\n",
      " 1.07765000e+05 1.98125000e+05 8.98400000e+04 3.59757000e+05\n",
      " 5.66370000e+04 9.96290000e+04 2.52733000e+05 1.72989000e+05\n",
      " 1.39213000e+05 2.15773000e+05 1.65813000e+05 1.00317000e+05\n",
      " 1.12517000e+05 2.54141000e+05 1.76789000e+05 1.87269000e+05\n",
      " 2.00029000e+05 1.67701000e+05 1.24229000e+05 1.39517000e+05\n",
      " 2.56336000e+05 1.23895000e+05 2.51797000e+05 2.43997000e+05\n",
      " 1.21872000e+05 1.27168000e+05 2.03184000e+05 1.42800000e+05\n",
      " 2.84688000e+05 9.18560000e+04 1.17680000e+05 1.58448000e+05\n",
      " 6.68320000e+04 1.75920000e+05 1.55936000e+05 1.86000000e+05\n",
      " 2.52080000e+05 2.51072000e+05 1.46432000e+05 1.26352000e+05\n",
      " 2.94688000e+05 1.36448000e+05 9.53280000e+04 2.14784203e+10\n",
      " 2.27296000e+05 1.59600000e+05 1.12496000e+05 1.92576000e+05\n",
      " 9.58400000e+04 3.17904000e+05 1.23760000e+05 1.35744000e+05\n",
      " 2.22960000e+05 1.09616000e+05 1.38496000e+05 1.65056000e+05\n",
      " 2.32112000e+05 8.60800000e+04 6.67680000e+04 1.53808000e+05\n",
      " 1.59536000e+05 1.12560000e+05 1.12832000e+05 2.32233341e+10\n",
      " 1.44464000e+05 1.55968000e+05 2.34864000e+05 1.49168000e+05\n",
      " 2.36384000e+05 1.23824000e+05 1.91760000e+05 1.64208000e+05\n",
      " 2.27136000e+05 2.55200000e+05 4.70560000e+04 2.86672000e+05\n",
      " 1.30464000e+05 1.43408000e+05 2.26800000e+05 1.17088000e+05\n",
      " 4.23968000e+05 1.94032000e+05 1.01936000e+05 1.26896000e+05\n",
      " 2.00192000e+05 1.90272000e+05 2.02576000e+05 1.96688000e+05\n",
      " 1.03264000e+05 1.44176000e+05 1.50640000e+05 2.92320000e+05\n",
      " 1.45680000e+05 1.28512000e+05 2.12208000e+05 2.10448000e+05\n",
      " 4.05232000e+05 2.64272000e+05 1.75280000e+05 3.94208000e+05\n",
      " 1.17744000e+05 2.42576000e+05 2.06016000e+05 2.04112000e+05\n",
      " 1.50608000e+05 1.03984000e+05 2.15600000e+05 1.62720000e+05\n",
      " 1.34720000e+05 2.45600000e+05 1.31584000e+05 3.45104000e+05\n",
      " 1.27296000e+05 1.69088000e+05 5.64640000e+04 1.17104000e+05\n",
      " 2.26080000e+05 1.99488000e+05 1.17520000e+05 2.08896000e+05\n",
      " 4.48160000e+04 1.22064000e+05 2.18064000e+05 1.43776000e+05\n",
      " 1.42160000e+05 1.43584000e+05 1.21056000e+05 9.13600000e+04\n",
      " 1.29968000e+05 1.29632000e+05 1.67408000e+05 1.39632000e+05\n",
      " 3.27312000e+05 2.28656000e+05 1.88960000e+05 2.16736000e+05\n",
      " 2.39504000e+05 9.04960000e+04 1.59248000e+05 1.75792000e+05\n",
      " 3.75104000e+05 1.76976000e+05 1.62176000e+05 1.49424000e+05\n",
      " 1.31120000e+05 2.13152000e+05 1.17520000e+05 1.57456000e+05\n",
      " 1.78800000e+05 1.79744000e+05 1.07680000e+05 1.60400000e+05\n",
      " 9.77600000e+04 1.25312000e+05 2.57056000e+05 7.86240000e+04\n",
      " 8.56800000e+04 1.41712000e+05]\n"
     ]
    },
    {
     "name": "stderr",
     "output_type": "stream",
     "text": [
      "c:\\users\\vithi\\appdata\\local\\programs\\python\\python36\\lib\\site-packages\\sklearn\\model_selection\\_split.py:1978: FutureWarning: The default value of cv will change from 3 to 5 in version 0.22. Specify it explicitly to silence this warning.\n",
      "  warnings.warn(CV_WARNING, FutureWarning)\n",
      "c:\\users\\vithi\\appdata\\local\\programs\\python\\python36\\lib\\site-packages\\sklearn\\model_selection\\_split.py:1978: FutureWarning: The default value of cv will change from 3 to 5 in version 0.22. Specify it explicitly to silence this warning.\n",
      "  warnings.warn(CV_WARNING, FutureWarning)\n"
     ]
    }
   ],
   "source": [
    "from sklearn.model_selection import cross_val_score, cross_val_predict\n",
    "lin_reg = LinearRegression()\n",
    "scores_train = cross_val_score(lin_reg, X_train, y_train)\n",
    "scores_test = cross_val_predict(lin_reg, X_test, y_test)\n",
    "print(\"Cross-validation scores_train: {}\".format(scores_train))\n",
    "print(\"Cross-validation scores_test: {}\".format(scores_test))"
   ]
  },
  {
   "cell_type": "code",
   "execution_count": 95,
   "metadata": {},
   "outputs": [
    {
     "name": "stdout",
     "output_type": "stream",
     "text": [
      "Average cross-validation score_train: -96674693087991705894912.00\n",
      "Average cross-validation score_test: 111380291.61\n"
     ]
    }
   ],
   "source": [
    "print(\"Average cross-validation score_train: {:.2f}\".format(scores_train.mean()))\n",
    "print(\"Average cross-validation score_test: {:.2f}\".format(scores_test.mean()))"
   ]
  },
  {
   "cell_type": "markdown",
   "metadata": {},
   "source": [
    "# [2] Ridge"
   ]
  },
  {
   "cell_type": "code",
   "execution_count": 96,
   "metadata": {},
   "outputs": [],
   "source": [
    "from  sklearn.linear_model import Ridge\n",
    "\n",
    "x_range = [0.01, 0.1, 1, 10, 100, 1000]\n",
    "train_score_list = []\n",
    "test_score_list = []\n",
    "\n",
    "for alpha in x_range: \n",
    "    ridge = Ridge(alpha)\n",
    "    ridge.fit(X_train,y_train)\n",
    "    train_score_list.append(ridge.score(X_train,y_train))\n",
    "    test_score_list.append(ridge.score(X_test, y_test))"
   ]
  },
  {
   "cell_type": "code",
   "execution_count": 97,
   "metadata": {},
   "outputs": [
    {
     "data": {
      "text/plain": [
       "Text(0.5, 0, '$\\\\alpha$')"
      ]
     },
     "execution_count": 97,
     "metadata": {},
     "output_type": "execute_result"
    },
    {
     "data": {
      "image/png": "[encoded data removed]",
      "text/plain": [
       "<Figure size 1440x864 with 1 Axes>"
      ]
     },
     "metadata": {},
     "output_type": "display_data"
    }
   ],
   "source": [
    "%matplotlib inline\n",
    "import matplotlib.pyplot as plt\n",
    "\n",
    "sns.set(rc={'figure.figsize':(20,12)})\n",
    "\n",
    "plt.plot(x_range, train_score_list, c = 'g', label = 'Train Score')\n",
    "plt.plot(x_range, test_score_list, c = 'b', label = 'Test Score')\n",
    "plt.xscale('log')\n",
    "plt.legend(loc = 3)\n",
    "plt.xlabel(r'$\\alpha$')"
   ]
  },
  {
   "cell_type": "markdown",
   "metadata": {},
   "source": [
    "Here the optimum value of alpha is 100"
   ]
  },
  {
   "cell_type": "code",
   "execution_count": 98,
   "metadata": {},
   "outputs": [
    {
     "name": "stdout",
     "output_type": "stream",
     "text": [
      "Train score: 78.7193 %\n",
      "Test score: 68.7798 %\n",
      "RMSE: 43342.3995\n",
      "r2_score :  0.6877976428812039\n"
     ]
    }
   ],
   "source": [
    "ridge = Ridge(alpha = 100)\n",
    "ridge.fit(X_train,y_train)\n",
    "\n",
    "y_pred_ridge=ridge.predict(X_test)\n",
    "\n",
    "print('Train score: {:.4f} %'.format(ridge.score(X_train, y_train)*100))\n",
    "print('Test score: {:.4f} %'.format(ridge.score(X_test, y_test)*100))\n",
    "\n",
    "print('RMSE: {:.4f}'.format(np.sqrt(mean_squared_error(y_test,y_pred_ridge))))\n",
    "print (\"r2_score : \", ridge.score(X_test,y_test))\n"
   ]
  },
  {
   "cell_type": "markdown",
   "metadata": {},
   "source": [
    "Ridge is fitting the data near to sweet spot and is slightly overfitting. R2_score denotes that 68% of the data is being explained by the features"
   ]
  },
  {
   "cell_type": "code",
   "execution_count": 99,
   "metadata": {},
   "outputs": [
    {
     "data": {
      "text/plain": [
       "142452.4371995161"
      ]
     },
     "execution_count": 99,
     "metadata": {},
     "output_type": "execute_result"
    }
   ],
   "source": [
    "ridge.intercept_"
   ]
  },
  {
   "cell_type": "markdown",
   "metadata": {},
   "source": [
    "### Feature Importance from Ridge"
   ]
  },
  {
   "cell_type": "code",
   "execution_count": 100,
   "metadata": {
    "scrolled": true
   },
   "outputs": [
    {
     "data": {
      "image/png": "[encoded data removed]",
      "text/plain": [
       "<Figure size 1440x864 with 1 Axes>"
      ]
     },
     "metadata": {},
     "output_type": "display_data"
    }
   ],
   "source": [
    "%matplotlib inline\n",
    "sns.set(rc={'figure.figsize':(20,12)})\n",
    "\n",
    "x_range1 = np.linspace(0.001, 1, 100).reshape(-1,1)\n",
    "x_range2 = np.linspace(1, 10000, 10000).reshape(-1,1)\n",
    "\n",
    "x_range = np.append(x_range1, x_range2)\n",
    "coeff = []\n",
    "\n",
    "for alpha in x_range: \n",
    "    ridge = Ridge(alpha)\n",
    "    ridge.fit(X_train,y_train)\n",
    "    coeff.append(ridge.coef_ )\n",
    "    \n",
    "coeff = np.array(coeff)\n",
    "\n",
    "for i in range(0,8):\n",
    "    plt.plot(x_range, coeff[:,i], label = 'feature {:d}'.format(i))\n",
    "\n",
    "plt.axhline(y=0, xmin=0.001, xmax=9999, linewidth=1, c ='gray')\n",
    "plt.xlabel(r'$\\alpha$')\n",
    "plt.xscale('log')\n",
    "plt.legend(loc='upper center', bbox_to_anchor=(0.5, 1.5),\n",
    "          ncol=3, fancybox=True, shadow=True)\n",
    "plt.show()"
   ]
  },
  {
   "cell_type": "markdown",
   "metadata": {},
   "source": [
    "Here feature 3 is the most important one and feature 2 is the least important"
   ]
  },
  {
   "cell_type": "markdown",
   "metadata": {},
   "source": [
    "### Cross Validation - Ridge"
   ]
  },
  {
   "cell_type": "code",
   "execution_count": 101,
   "metadata": {
    "scrolled": false
   },
   "outputs": [
    {
     "name": "stdout",
     "output_type": "stream",
     "text": [
      "Cross-validation scores_train: [0.7868562  0.68239519 0.76019187]\n",
      "Cross-validation scores_test: [0.65359757 0.56127707 0.46583194]\n"
     ]
    },
    {
     "name": "stderr",
     "output_type": "stream",
     "text": [
      "c:\\users\\vithi\\appdata\\local\\programs\\python\\python36\\lib\\site-packages\\sklearn\\model_selection\\_split.py:1978: FutureWarning: The default value of cv will change from 3 to 5 in version 0.22. Specify it explicitly to silence this warning.\n",
      "  warnings.warn(CV_WARNING, FutureWarning)\n",
      "c:\\users\\vithi\\appdata\\local\\programs\\python\\python36\\lib\\site-packages\\sklearn\\model_selection\\_split.py:1978: FutureWarning: The default value of cv will change from 3 to 5 in version 0.22. Specify it explicitly to silence this warning.\n",
      "  warnings.warn(CV_WARNING, FutureWarning)\n"
     ]
    }
   ],
   "source": [
    "from sklearn.model_selection import cross_val_score, cross_val_predict\n",
    "ridge1 = Ridge(alpha = 100)\n",
    "scores_train = cross_val_score(ridge1, X_train, y_train)\n",
    "scores_test = cross_val_score(ridge1, X_test, y_test)\n",
    "print(\"Cross-validation scores_train: {}\".format(scores_train))\n",
    "print(\"Cross-validation scores_test: {}\".format(scores_test))\n"
   ]
  },
  {
   "cell_type": "code",
   "execution_count": 102,
   "metadata": {},
   "outputs": [
    {
     "name": "stdout",
     "output_type": "stream",
     "text": [
      "Average cross-validation score_train: 0.74\n",
      "Average cross-validation score_test: 0.56\n"
     ]
    }
   ],
   "source": [
    "print(\"Average cross-validation score_train: {:.2f}\".format(scores_train.mean()))\n",
    "print(\"Average cross-validation score_test: {:.2f}\".format(scores_test.mean()))"
   ]
  },
  {
   "cell_type": "markdown",
   "metadata": {},
   "source": [
    "# [3] Lasso"
   ]
  },
  {
   "cell_type": "code",
   "execution_count": 104,
   "metadata": {},
   "outputs": [],
   "source": [
    "from sklearn.linear_model import Lasso\n",
    "x_range = [1, 10, 100,1000, 10000]\n",
    "train_score_list = []\n",
    "test_score_list = []\n",
    "\n",
    "for alpha in x_range: \n",
    "    lasso = Lasso(alpha)\n",
    "    lasso.fit(X_train,y_train)\n",
    "    train_score_list.append(lasso.score(X_train,y_train))\n",
    "    test_score_list.append(lasso.score(X_test, y_test))"
   ]
  },
  {
   "cell_type": "code",
   "execution_count": 105,
   "metadata": {},
   "outputs": [
    {
     "data": {
      "text/plain": [
       "Text(0.5, 0, '$\\\\alpha$')"
      ]
     },
     "execution_count": 105,
     "metadata": {},
     "output_type": "execute_result"
    },
    {
     "data": {
      "image/png": "[encoded data removed]",
      "text/plain": [
       "<Figure size 1440x864 with 1 Axes>"
      ]
     },
     "metadata": {},
     "output_type": "display_data"
    }
   ],
   "source": [
    "plt.plot(x_range, train_score_list, c = 'g', label = 'Train Score')\n",
    "plt.plot(x_range, test_score_list, c = 'b', label = 'Test Score')\n",
    "plt.xscale('log')\n",
    "plt.legend(loc = 3)\n",
    "plt.xlabel(r'$\\alpha$')"
   ]
  },
  {
   "cell_type": "markdown",
   "metadata": {},
   "source": [
    "The optimum value of alpha is 1000"
   ]
  },
  {
   "cell_type": "code",
   "execution_count": 106,
   "metadata": {},
   "outputs": [
    {
     "name": "stdout",
     "output_type": "stream",
     "text": [
      "Train score: 85.3640 %\n",
      "Test score: 67.6489 %\n",
      "RMSE: 44120.4260\n",
      "r2_score : 0.6764885389055111\n"
     ]
    }
   ],
   "source": [
    "lasso = Lasso(alpha = 1000)\n",
    "lasso.fit(X_train,y_train)\n",
    "\n",
    "y_pred_lasso=lasso.predict(X_test)\n",
    "\n",
    "print('Train score: {:.4f} %'.format(lasso.score(X_train, y_train)*100))\n",
    "print('Test score: {:.4f} %'.format(lasso.score(X_test, y_test)*100))\n",
    "print('RMSE: {:.4f}'.format(np.sqrt(mean_squared_error(y_test,y_pred_lasso))))\n",
    "print('r2_score :', lasso.score(X_test,y_test))"
   ]
  },
  {
   "cell_type": "markdown",
   "metadata": {},
   "source": [
    "The Lasso model overfits the data given the difference in train and test score. Also, the r2_score shows that 67% of the data is being explained by its features"
   ]
  },
  {
   "cell_type": "markdown",
   "metadata": {},
   "source": [
    "### Feature Importance based on LASSO"
   ]
  },
  {
   "cell_type": "code",
   "execution_count": 107,
   "metadata": {},
   "outputs": [
    {
     "data": {
      "image/png": "[encoded data removed]",
      "text/plain": [
       "<Figure size 1440x864 with 1 Axes>"
      ]
     },
     "metadata": {},
     "output_type": "display_data"
    }
   ],
   "source": [
    "%matplotlib inline\n",
    "sns.set(rc={'figure.figsize':(20,12)})\n",
    "\n",
    "\n",
    "x_range1 = np.linspace(0.001, 1, 1000).reshape(-1,1)\n",
    "x_range2 = np.linspace(1, 1000, 1000).reshape(-1,1)\n",
    "\n",
    "x_range = np.append(x_range1, x_range2)\n",
    "coeff = []\n",
    "\n",
    "for alpha in x_range: \n",
    "    lasso = Lasso(alpha)\n",
    "    lasso.fit(X_train,y_train)\n",
    "    coeff.append(lasso.coef_ )\n",
    "    \n",
    "coeff = np.array(coeff)\n",
    "\n",
    "for i in range(0,8):\n",
    "    plt.plot(x_range, coeff[:,i], label = 'feature {:d}'.format(i))\n",
    "\n",
    "plt.axhline(y=0, xmin=0.001, xmax=9999, linewidth=1, c ='gray')\n",
    "plt.xlabel(r'$\\alpha$')\n",
    "plt.xscale('log')\n",
    "plt.legend(loc='upper center', bbox_to_anchor=(0.5, 1.5),\n",
    "          ncol=3, fancybox=True, shadow=True)\n",
    "plt.show()"
   ]
  },
  {
   "cell_type": "markdown",
   "metadata": {},
   "source": [
    "The best feature is feature1 and the least important feature is feature 5"
   ]
  },
  {
   "cell_type": "markdown",
   "metadata": {},
   "source": [
    "### Cross Validation - Lasso"
   ]
  },
  {
   "cell_type": "code",
   "execution_count": 108,
   "metadata": {
    "scrolled": true
   },
   "outputs": [
    {
     "name": "stdout",
     "output_type": "stream",
     "text": [
      "Cross-validation scores_train: [0.87714809 0.79441935 0.86921188]\n",
      "Cross-validation scores_test: [170468.9323445   91524.58002077 296845.58144524 165662.63018434\n",
      " 286637.71086401 134138.80633138 192753.67520919 142203.85300074\n",
      " 142437.43929725 166478.91657135 203331.22372153 276116.436211\n",
      " 110066.87589298 125903.12800883 249985.01411723 217285.20805203\n",
      " 193972.36081114 201253.64435689 102478.01936622 119146.71127724\n",
      " 108486.42122622 289562.42016156 167233.66931536 224755.09733562\n",
      " 143013.62172963 135890.96966132 202345.62511409 131502.62527166\n",
      " 189109.87745169 199183.26355439 109550.54915405 201663.40433472\n",
      " 160592.03299269 216022.99630042 130444.06704564 164206.46398299\n",
      " 146567.0915285  182004.56975648 252622.97194971 186538.02032744\n",
      " 354555.75146995  87254.22822729 223272.13066461 226369.66712019\n",
      " 271467.12813127 158416.50069774 119163.66365631 157196.9593104\n",
      " 152482.32943238 385591.67529348 195740.99794932 298336.43342783\n",
      " 242365.09524106 174068.44334512 128072.26106661 387182.55302045\n",
      " 237625.84658438 125092.83406734 114466.13611552 289722.43609467\n",
      " 116069.75951728 269169.35704874 110555.11646489 124125.27058265\n",
      " 155713.22760479 263324.14577619 177011.16368333 147134.67151124\n",
      " 195461.92687509 198157.35895876 178800.8241059  175202.75741517\n",
      " 130237.46859744  83631.96238536 151813.11764896 151822.89297418\n",
      " 133330.45382202 198346.43777261 248365.11135435 122750.26207227\n",
      " 123213.13865373 230134.77208358 221063.29646407 248369.89293485\n",
      "  66371.03916818 135135.10154853 291265.35978494 107545.44508729\n",
      " 143944.66556964 340384.02315915 147524.42632043 140833.7647611\n",
      " 145062.51395174 194854.83934999 243050.29086543 120167.68579304\n",
      " 220485.64051765 211545.52743762 210715.13891589 212012.39652893\n",
      " 186900.73805166 105828.62534471 244266.11125667 155755.2517224\n",
      " 233381.28489498 177362.10337244 143896.3225224  153168.79633152\n",
      " 132499.40335028 204216.56171049 156910.65422975 201100.9911378\n",
      " 230977.7401065  133860.24217851 178791.10743224 135830.635647\n",
      " 200835.42192475 137947.83361645 203764.18273862 171209.79613766\n",
      " 201566.70290245 238191.07133047 181365.78905239 211245.06979551\n",
      " 209545.55650609 272235.47614671 165074.93514162 130562.51317873\n",
      " 141585.04620215 211634.09815893 222816.64903214 242166.91327481\n",
      " 164375.48798825 144002.42824609  80271.93707057 179397.26453997\n",
      "  87461.20307326 210636.44080367 163499.18616976 155307.78856316\n",
      " 101688.31840863 115154.23940236 171378.17192802 260363.44741761\n",
      " 187391.81650974 375056.10859305 201115.03678462 147681.7783026\n",
      " 129269.71801975 164912.51075285 103226.41500784 130295.87580711\n",
      " 294265.06944848 129898.47316257 229831.62345361 160321.65800131\n",
      " 205989.37153827 228224.65905343 106696.83489731 286974.61972952\n",
      " 206516.05326716 120429.31717355 143943.59839025 210711.91226552\n",
      " 118048.77068019 223395.76124247 174791.87299365 132340.68172939\n",
      " 200975.10197542 118867.27197702 152186.80571707 150644.77823466\n",
      " 198171.65452021 170616.48178627 166648.56389911 135817.07173033\n",
      " 394667.9251775  252371.19900667 262746.82046035 214403.22493614\n",
      " 251793.24029116 261114.59645008 258993.75621852 293775.47267598\n",
      "  95924.90326974 323966.94555346 233021.76102182  96333.13360863\n",
      " 165751.43037289 198414.68123266 342724.21687266 380816.81102881\n",
      "  86469.80485602 293427.93697281 203071.39117029 154707.0402628\n",
      " 163028.5706264  158713.7096933  197889.10060852 156753.73123879\n",
      " 139865.68299996 204361.34748582 190924.87129502 102513.67411886\n",
      " 148577.30075892 241866.86249161 134677.03453032 104678.75629386\n",
      " 289438.70419148 234864.42403015 159817.12220872 148199.41636481\n",
      " 288854.77614084 218355.30265588 147375.28375486 155199.22388435\n",
      " 151464.729375   117569.19208111 182822.69314863 138252.44519027\n",
      " 178333.58626165 323156.77067512 180144.30563733 195988.111435\n",
      " 202574.3753806  140544.72616154  92796.04835306 191638.86685562\n",
      " 208960.77985413 144897.63029387 205917.24137764 179005.94419433\n",
      " 279305.02341023 109254.94061321 323090.91466618 261438.50966606\n",
      " 196262.42091164 130666.11069671 147057.48764319 249572.02044561\n",
      " 234995.1867143  197310.07358793 232067.69313784 198554.4935032\n",
      " 142813.25444769 108794.85287042 123105.26953204 219521.38345702\n",
      " 105363.69260091 101930.90822078 219706.39905055 147602.62883491\n",
      " 261361.87165811 228336.8245355  224777.21276941 211524.21617182\n",
      " 190971.97428275  94964.59090502 221083.57676129 153371.9138196\n",
      " 115896.60046253 208229.84991755 257701.96730488  95819.932929\n",
      " 105235.90684701 100908.00836882 131156.65064539 254033.84989068\n",
      " 247301.2937966  143002.04147554 119311.30069408 162028.19523748\n",
      " 318412.93095695 166132.67211147 221418.82660008 356098.94331504\n",
      " 147282.30769016 322589.22770802 199213.08502505 125138.91439055\n",
      " 152093.22849764 208197.69549475  74566.83326544 117964.0240877\n",
      " 158641.47195933 132285.6804555  200048.20736631 104775.35245031\n",
      " 132198.19518896 124617.24001106 182319.23103425 257774.88688761\n",
      " 242108.34997485 268595.46690849 186189.38344274 174741.16872255\n",
      " 212087.63059845 135789.99613949 101988.24753402 143800.49567511\n",
      " 117975.71035792 246989.03198615 221645.59216504 124863.96411308\n",
      " 106330.83671073 134392.42198441 315694.8017142  175340.67325875\n",
      " 203319.38395936 154923.79819534 180722.1954307  113199.66180122\n",
      " 112956.73616212 122808.40352553 182113.56489386 185344.80231279\n",
      " 150205.07761934 119686.41659308 211098.20136556 185698.96703132\n",
      " 172627.4336222  177347.45885221 327869.91361657 214438.08515415\n",
      " 294702.61677487 174057.71620639 172164.30418676 273015.939279\n",
      " 251998.24475262 131117.20476285 107146.71564322 185485.05761626\n",
      " 151856.46574669 218739.39773329 138620.4197466  186828.37441772\n",
      " 178487.48773199 184954.77071924 152058.22366097 233313.03879209\n",
      " 119847.92506823 230111.67304492 176248.48959429 109135.05009619\n",
      " 166437.23271794 224522.78944663 235606.98977003 167424.71204544\n",
      " 196014.35416056 207111.45031649 110951.59090255 353857.60700615\n",
      " 130999.30940186 206221.17700104 244825.21414593 110355.40147638\n",
      " 333515.25663889 235726.80721899 236843.62340755 189391.2342417\n",
      " 233690.74231764 213829.48897756 220507.90625782 147546.15499119\n",
      " 207897.91659626 162528.03492575 122561.49296843 180193.37419651\n",
      " 260884.89653508 136784.06108162 137691.17806706 262836.22970842\n",
      " 193687.24524227 157491.05878034 266408.00473985 189447.65013975\n",
      " 219944.10154046 153873.38128422 137930.05189115 163987.32404387\n",
      " 105209.17542947 284670.42525844 183644.35983963 193884.44621113\n",
      " 164795.72175306 223703.85822466 240558.6694019  131731.29239562\n",
      " 178429.52752419 116966.62504879 236635.22224622 332825.12704146\n",
      " 350235.13044647 116591.44172776 284199.92829097 130243.45646371\n",
      " 179122.66932438 156411.66607785 147549.5943849  112298.63008254\n",
      " 145892.51860698 125614.03754058 177243.6948719  215766.40613027\n",
      " 122573.6999023   99724.51896243 162032.16763457 212001.27186796\n",
      " 120421.4755283  209789.00779065 146094.68858319 107921.10425219\n",
      " 242438.02494649 247368.71525106 212703.23927814 196345.73966835\n",
      " 111859.8656571  103205.13712697 190497.37293501 210346.07327221\n",
      " 277225.65863339 160194.26161404 132445.57135303 136074.75209826\n",
      " 110502.78626222 127654.86006657 294365.56785887 208618.57851865\n",
      " 253901.46198434 209788.00741669 132475.76649174 119051.35884403\n",
      " 215161.05225773 245658.73802261 235569.66379537 249142.28889848\n",
      " 191149.66578902 170140.33284094 206703.00047025 265598.91099288\n",
      " 463460.03304498 221419.08088693 163917.14586814 175965.29540664\n",
      " 209079.73395954 140898.42057161 172825.20473618 214147.54369631\n",
      " 130808.68226343 211522.22029561 146780.24879686 191470.87988729\n",
      " 193024.99412131 328606.79918572 178133.07515958 161911.61253731\n",
      " 228534.59052902 141475.252407    94543.86400239 130628.39972254\n",
      " 243692.75909613 245038.82517041 106431.58752458 138219.80288025\n",
      " 154505.83115267 187437.69158845 152794.98066243 244168.82223323\n",
      " 243335.05133869 130306.47108689 227448.98176808 170037.37789265\n",
      " 125184.59602461 238565.42852253 116631.00961834 229444.22031539\n",
      " 146458.79787934 215315.37533088 260052.30010279 243410.26030299\n",
      " 201756.32604647 251168.93210406 162935.33454292 283064.64076307\n",
      " 133590.04240961 148160.47889736 228216.8957072  127587.08180676\n",
      " 178865.13416597 144495.75710867 145216.50103224 126612.64115772\n",
      " 320767.94418985 149003.1486488  135273.00244306 179511.16873041\n",
      "  99884.56682046 154642.59588012 120873.55480431 188899.17995047\n",
      " 197135.00900923 150498.06677961 176998.99693318 190981.60998\n",
      " 180103.98897702 122314.04873265 135493.41071017 223617.06155628\n",
      " 217505.02906749 169450.45637454 361606.31552502 273411.29017259\n",
      " 138887.66586961 133456.80315649 127950.45738379 137455.4592193\n",
      " 165375.24739597 120899.04766397 307921.40779613 197669.76110023\n",
      " 229905.79402581 195049.32721248 379862.63217016 276378.29672102\n",
      " 279272.519295   196186.67554031 176470.01130026 215704.28312326\n",
      " 152533.50634582 250144.72708409 405649.06178332 193250.26785948\n",
      " 160559.7995363  337457.5670427  200011.34409773 250604.14736571\n",
      " 165386.18696946 168953.29015138 195343.48053566  53542.24292716\n",
      " 177596.53022588 177757.68154158 113769.65942983 176009.07484507\n",
      " 232858.08417354 146671.02300382 104373.21015162 128080.06597553\n",
      " 128846.0754043  237087.41640545 282734.41150049 202736.10045288\n",
      " 133146.063011   166405.98236345 103966.50919657 243642.40951437\n",
      " 127991.14413821 144824.53003745 271895.30068669 320608.33055264\n",
      " 174847.36681537 168302.2122083  261901.87125944 189461.55495418\n",
      " 118181.30540272 207324.03463143  94737.02697009 212963.41514725\n",
      " 276849.81261898 188751.07413004 133026.14954295 278480.73485455\n",
      " 280689.32056502 262750.5697634  225689.47937285 226320.28644394\n",
      " 189350.28820661 312239.27404418 166227.95071205 109178.21346688\n",
      " 148036.86684223 229899.51935054  98608.39100621 123441.98903923\n",
      " 220959.50281514 166542.64506858 225070.89818941 149377.4085315\n",
      " 162264.26408475 193722.72349197 303646.64808695 133474.43690624\n",
      " 152979.42871446 205636.96592528 133900.05336701 276404.35986868\n",
      " 103841.41195724 231654.59749768 165576.83935454 267379.09361406\n",
      " 111213.51405944 112096.8855288  137665.02230849 178882.13538551\n",
      "  91638.66891349 128897.43986734 146937.38849488 124777.41132394\n",
      " 181325.29615998 123763.33212577 209305.38413987 163316.64674206\n",
      " 222406.57020819 112732.9984416  129273.11213981 248056.11666851\n",
      " 236875.82741892 370525.54455633 186885.60698521 232894.98018157\n",
      " 214522.38375073 166884.9173678  271505.99590503 142639.63659308\n",
      " 177628.72871474 241112.78678197 183885.29020004 166516.99425655\n",
      " 205007.35545531 272499.6465918   98070.08035539 264336.45052649\n",
      " 343811.65511674 106711.12799865 142887.22697931 353157.23111512\n",
      " 131070.16176547 186660.82104609 244554.29513027 179473.57364158\n",
      " 108778.39136393 349096.24707286 119039.8596896  192934.63296893\n",
      " 133567.22285231 184834.44025326 129355.91427517 134864.73000907\n",
      " 183281.56955561 131583.42775098 216059.32392135 317799.38810922\n",
      " 119504.47571188 190826.84257861  89973.14306981 358748.61985411\n",
      " 200108.04500588 169541.97573178 188516.48128781 109764.1234302\n",
      " 173780.20833004 185751.48247722 360467.16552838 297762.67664177\n",
      " 168510.40573846 395931.98519094 273887.11270941 330031.22088779\n",
      " 204678.82904697 102050.70560226 156408.17032608 240267.22793394\n",
      " 216417.58310138 111614.6731622  222828.29913993 142679.17557272\n",
      "  67719.91913608 263271.00028548 164788.79573087 260257.14932794\n",
      " 100282.25024673 191559.366382   124942.93404932 319889.12647724\n",
      " 297427.74595398 210500.08658991 417238.28538529 207523.82688064\n",
      " 183588.6459     131993.41493819 241202.96107156 159498.25723206\n",
      " 294847.77366891 158590.67116901 191273.77787063 193713.60601688\n",
      " 174589.91589627 106997.82400647 105572.99221838 249298.23195913\n",
      " 239795.62983872 221354.39242206 122269.55507666 136569.58704777\n",
      " 228814.50925052 156996.54533889  94292.50587073 149166.48713103\n",
      " 229784.89982661 108705.10172806 132352.9371672  157121.62548187\n",
      " 129524.57030065 230037.64317422 181213.53603578 220429.0265943\n",
      " 292933.05984832 171842.66474753 136412.74848798 206095.51499983\n",
      " 225052.57986338 302538.28840727 110765.39090231 208518.43750323\n",
      " 201229.84543865 196271.33234331 110106.23238884 152495.49291797\n",
      " 208546.89071527 201244.6025785  351987.29418727 128756.60712785\n",
      "  91376.50307887 195730.29366206  98704.88036534  90954.6751782\n",
      " 346051.05766137 226797.72820377  76479.4487095  277121.02788833\n",
      " 165336.70776296 344154.0962019  297718.39464412 195662.22265777\n",
      " 103473.1767619  185436.09439563 163813.86416782 352236.18373066\n",
      " 216367.85705296 190801.57449696 144062.92738706 281118.13250778\n",
      " 218406.82859961 129757.17301583 149115.46439336 293735.26305259\n",
      " 237820.81045559 273387.11695502 172404.33680302 215165.46755808\n",
      " 109451.15142328  82400.68834638 357684.04100499 180876.33162737\n",
      " 114181.30920464 263904.17288505 124325.14765558 159067.06958152\n",
      " 113741.99872895 205865.72951433 152535.21925034 249404.23674133\n",
      " 175056.02935369 223452.31941131 100097.22793943 181853.97905859\n",
      " 229884.05806145 142773.48771056 126412.74454413 217499.59838063\n",
      " 336009.81577957 150991.97765288 162311.15599176 152281.6904009\n",
      "  75485.52479183 126902.26115142 162800.6610644  309532.60631757\n",
      " 173544.56402253 117140.26106437 204349.47318015 106597.7568142\n",
      " 127434.10548677 107950.96920679 209259.96118265 178623.86997907\n",
      " 268143.12661167 194604.65643073 131446.03961641  81310.93730143\n",
      " 197389.28280279 233477.20579565 135185.08622307 136182.87500875\n",
      " 224121.78363552 117501.29614543 178654.89345543 291555.76510733\n",
      " 191472.41549737 276311.83792994 328415.16616883 136281.25104693\n",
      " 364144.19240876 277455.23465319 249421.39358218 218281.2285366\n",
      " 117312.62612728 195612.53100707 110809.62263836 134509.90938209\n",
      " 187213.47207887 206692.641401   281471.73319421 123745.07599725\n",
      " 204897.96636474 119475.95538811 133712.1836059  174527.58443119\n",
      " 119228.29473498 186778.63440296  83370.34867333 109379.4594106\n",
      " 225881.50171192 137890.22461947 191337.66440074 199776.31650459\n",
      " 136321.81394889 124681.68419455 169749.08108581 239087.26728803\n",
      " 175185.80482102 177404.6104825  304177.65343106 175851.680756\n",
      " 197719.04226219 177212.05535291 194786.57302328 166974.81785335\n",
      " 339987.38025774 310313.8862014  171583.4866529  153490.13332784\n",
      " 166911.59297572 306050.56066675 125164.74503861 150318.27689442\n",
      " 101681.21683508 151292.79559209 282912.63502071 155212.60152138\n",
      " 136005.74345167 147318.10669463 230094.91350323 143967.55372421\n",
      " 160410.47493897 375287.13223083 135832.51524784 282934.10476185\n",
      " 197901.50372393 184286.42424578 133572.69062533  78592.05183204\n",
      " 219493.60620033 211515.98157029 196405.80887255 281483.47471822\n",
      " 210520.72895246 179712.44249677 206119.32842562 134191.78295898\n",
      " 237058.07920963 210656.06108562 150989.84313183 185190.81921734\n",
      " 138460.1749769  128195.67381954 132657.11194418 123144.92790869\n",
      " 256517.27922141 117123.36402465  78393.09920804 203870.12593916\n",
      " 182143.1825134  188693.63652888 239500.1549523  220295.47001394\n",
      " 148429.05901536 174007.78900938 159909.01976415 109269.19400084\n",
      " 117633.86006981 186176.03921877 132669.18023795 109989.40270823\n",
      " 352435.73230796 228755.98474809 260102.84602093 250234.1546898\n",
      " 146320.72777447 208708.9487335  217936.0581218  190037.53265363\n",
      " 190742.26505709 217957.86832786 122006.50402496 131717.07174294\n",
      " 211586.33910932  92161.51591253 125179.00368724 126688.8765507\n",
      " 187989.19625963 189950.52555491 203746.42648939 133011.44648809\n",
      " 138427.83730415  94463.22218255 168894.72995849 179060.9919964\n",
      " 128353.33279127 288887.08079706 134491.92152234 150678.66665415\n",
      " 219912.10392735 243301.05989915 110411.69850853 263527.37642803]\n"
     ]
    },
    {
     "name": "stderr",
     "output_type": "stream",
     "text": [
      "c:\\users\\vithi\\appdata\\local\\programs\\python\\python36\\lib\\site-packages\\sklearn\\model_selection\\_split.py:1978: FutureWarning: The default value of cv will change from 3 to 5 in version 0.22. Specify it explicitly to silence this warning.\n",
      "  warnings.warn(CV_WARNING, FutureWarning)\n",
      "c:\\users\\vithi\\appdata\\local\\programs\\python\\python36\\lib\\site-packages\\sklearn\\model_selection\\_split.py:1978: FutureWarning: The default value of cv will change from 3 to 5 in version 0.22. Specify it explicitly to silence this warning.\n",
      "  warnings.warn(CV_WARNING, FutureWarning)\n"
     ]
    }
   ],
   "source": [
    "from sklearn.model_selection import cross_val_score, cross_val_predict\n",
    "lasso1 = Lasso(alpha = 1000)\n",
    "scores_train = cross_val_score(lasso1, X_train, y_train)\n",
    "scores_test = cross_val_predict(lasso1, X_train, y_train)\n",
    "\n",
    "print(\"Cross-validation scores_train: {}\".format(scores_train))\n",
    "print(\"Cross-validation scores_test: {}\".format(scores_test))"
   ]
  },
  {
   "cell_type": "code",
   "execution_count": 109,
   "metadata": {},
   "outputs": [
    {
     "name": "stdout",
     "output_type": "stream",
     "text": [
      "Average cross-validation score: 0.85\n",
      "Average cross-validation score: 187921.93\n"
     ]
    }
   ],
   "source": [
    "print(\"Average cross-validation score: {:.2f}\".format(scores_train.mean()))\n",
    "print(\"Average cross-validation score: {:.2f}\".format(scores_test.mean()))"
   ]
  },
  {
   "cell_type": "markdown",
   "metadata": {},
   "source": [
    "# [4] Polynomial Regression"
   ]
  },
  {
   "cell_type": "code",
   "execution_count": 110,
   "metadata": {},
   "outputs": [],
   "source": [
    "from sklearn.preprocessing import PolynomialFeatures\n",
    "train_score_list = []\n",
    "test_score_list = []\n",
    "\n",
    "for n in range(1,3):\n",
    "    poly = PolynomialFeatures(n)\n",
    "    X_train_poly = poly.fit_transform(X_train)\n",
    "    X_test_poly = poly.transform(X_test)\n",
    "    lreg.fit(X_train_poly, y_train)\n",
    "    train_score_list.append(lreg.score(X_train_poly, y_train))\n",
    "    test_score_list.append(lreg.score(X_test_poly, y_test))"
   ]
  },
  {
   "cell_type": "code",
   "execution_count": 111,
   "metadata": {},
   "outputs": [
    {
     "name": "stdout",
     "output_type": "stream",
     "text": [
      "[0.9064150910837175, 1.0]\n",
      "[0.51425042788032, -0.8574880401702851]\n"
     ]
    }
   ],
   "source": [
    "print(train_score_list)\n",
    "print(test_score_list)"
   ]
  },
  {
   "cell_type": "code",
   "execution_count": 112,
   "metadata": {
    "scrolled": true
   },
   "outputs": [
    {
     "data": {
      "text/plain": [
       "<matplotlib.legend.Legend at 0x12b815d1550>"
      ]
     },
     "execution_count": 112,
     "metadata": {},
     "output_type": "execute_result"
    },
    {
     "data": {
      "image/png": "[encoded data removed]",
      "text/plain": [
       "<Figure size 1440x864 with 1 Axes>"
      ]
     },
     "metadata": {},
     "output_type": "display_data"
    }
   ],
   "source": [
    "%matplotlib inline\n",
    "sns.set(rc={'figure.figsize':(20,12)})\n",
    "\n",
    "\n",
    "x_axis = range(1,3)\n",
    "plt.plot(x_axis, train_score_list, c = 'g', label = 'Train Score')\n",
    "plt.plot(x_axis, test_score_list, c = 'b', label = 'Test Score')\n",
    "plt.xlabel('degree')\n",
    "plt.ylabel('accuracy')\n",
    "plt.legend()"
   ]
  },
  {
   "cell_type": "markdown",
   "metadata": {},
   "source": [
    "Here we can see that the degree = 1. Hence, we need to take linear only"
   ]
  },
  {
   "cell_type": "code",
   "execution_count": 117,
   "metadata": {},
   "outputs": [
    {
     "name": "stdout",
     "output_type": "stream",
     "text": [
      "Train score: 90.6415 %\n",
      "Test score: 51.4250 %\n",
      "RMSE: 54063.1162\n",
      "r2_score : 0.51425042788032\n"
     ]
    }
   ],
   "source": [
    "poly = PolynomialFeatures(1)\n",
    "X_train_poly = poly.fit_transform(X_train)\n",
    "X_test_poly = poly.transform(X_test)\n",
    "lreg.fit(X_train_poly, y_train)\n",
    "\n",
    "y_pred_poly=lreg.predict(X_test_poly)\n",
    "\n",
    "print('Train score: {:.4f} %'.format(lreg.score(X_train_poly, y_train)*100))\n",
    "print('Test score: {:.4f} %'.format(lreg.score(X_test_poly, y_test)*100))\n",
    "\n",
    "print('RMSE: {:.4f}'.format(np.sqrt(mean_squared_error(y_test,y_pred_poly))))\n",
    "print('r2_score :', lreg.score(X_test_poly,y_test))"
   ]
  },
  {
   "cell_type": "markdown",
   "metadata": {},
   "source": [
    "The train and test score shows that the model clearly overfits the data and the r2_score denotes that 51% of the data is being explained by the features"
   ]
  },
  {
   "cell_type": "markdown",
   "metadata": {},
   "source": [
    "# [5] Decision Tree Regressor"
   ]
  },
  {
   "cell_type": "code",
   "execution_count": 118,
   "metadata": {},
   "outputs": [
    {
     "data": {
      "text/plain": [
       "Text(0, 0.5, 'Scores')"
      ]
     },
     "execution_count": 118,
     "metadata": {},
     "output_type": "execute_result"
    },
    {
     "data": {
      "image/png": "[encoded data removed]",
      "text/plain": [
       "<Figure size 1440x864 with 1 Axes>"
      ]
     },
     "metadata": {},
     "output_type": "display_data"
    }
   ],
   "source": [
    "from sklearn.tree import DecisionTreeRegressor\n",
    "\n",
    "sns.set(rc={'figure.figsize':(20,12)})\n",
    "\n",
    "\n",
    "train_score_array = []\n",
    "test_score_array = []\n",
    "\n",
    "for n in range(1,10):\n",
    "    tree = DecisionTreeRegressor(max_depth=n)\n",
    "    tree.fit(X_train, y_train)\n",
    "    train_score_array.append(tree.score(X_train, y_train))\n",
    "    test_score_array.append(tree.score(X_test, y_test))\n",
    "\n",
    "x_axis = range(1,10)\n",
    "plt.plot(x_axis, train_score_array, c = 'g', label = 'Train Score')\n",
    "plt.plot(x_axis, test_score_array, c = 'b', label = 'Test Score')\n",
    "plt.legend()\n",
    "plt.xlabel('Max Depth')\n",
    "plt.ylabel('Scores')"
   ]
  },
  {
   "cell_type": "code",
   "execution_count": 119,
   "metadata": {},
   "outputs": [
    {
     "name": "stdout",
     "output_type": "stream",
     "text": [
      "Train score: 83.6598 %\n",
      "Test score: 60.0796 %\n",
      "RMSE: 49010.8674\n",
      "r2_score : 0.6007958438737377\n"
     ]
    }
   ],
   "source": [
    "tree = DecisionTreeRegressor(max_depth=4)\n",
    "tree.fit(X_train, y_train)\n",
    "\n",
    "y_pred=tree.predict(X_test)\n",
    "\n",
    "print('Train score: {:.4f} %'.format(tree.score(X_train, y_train)*100))\n",
    "print('Test score: {:.4f} %'.format(tree.score(X_test, y_test)*100))\n",
    "\n",
    "print('RMSE: {:.4f}'.format(np.sqrt(mean_squared_error(y_test,y_pred))))\n",
    "print('r2_score :', tree.score(X_test,y_test))"
   ]
  },
  {
   "cell_type": "markdown",
   "metadata": {},
   "source": [
    "Hence, this shows that this model slightly overfits the data and the r2_score denotes 68% of data is being explained by its features"
   ]
  },
  {
   "cell_type": "markdown",
   "metadata": {},
   "source": [
    "### Grid Search - Decision Tree Regressor"
   ]
  },
  {
   "cell_type": "code",
   "execution_count": 120,
   "metadata": {},
   "outputs": [
    {
     "name": "stdout",
     "output_type": "stream",
     "text": [
      "{'criterion': 'mse',\n",
      " 'max_depth': 4,\n",
      " 'max_features': None,\n",
      " 'max_leaf_nodes': None,\n",
      " 'min_impurity_decrease': 0.0,\n",
      " 'min_impurity_split': None,\n",
      " 'min_samples_leaf': 1,\n",
      " 'min_samples_split': 2,\n",
      " 'min_weight_fraction_leaf': 0.0,\n",
      " 'presort': False,\n",
      " 'random_state': None,\n",
      " 'splitter': 'best'}\n"
     ]
    }
   ],
   "source": [
    "from pprint import pprint\n",
    "pprint(tree.get_params())"
   ]
  },
  {
   "cell_type": "code",
   "execution_count": 121,
   "metadata": {},
   "outputs": [
    {
     "name": "stderr",
     "output_type": "stream",
     "text": [
      "c:\\users\\vithi\\appdata\\local\\programs\\python\\python36\\lib\\site-packages\\sklearn\\model_selection\\_split.py:1978: FutureWarning: The default value of cv will change from 3 to 5 in version 0.22. Specify it explicitly to silence this warning.\n",
      "  warnings.warn(CV_WARNING, FutureWarning)\n",
      "[Parallel(n_jobs=-1)]: Using backend LokyBackend with 8 concurrent workers.\n"
     ]
    },
    {
     "name": "stdout",
     "output_type": "stream",
     "text": [
      "Fitting 3 folds for each of 81 candidates, totalling 243 fits\n"
     ]
    },
    {
     "name": "stderr",
     "output_type": "stream",
     "text": [
      "[Parallel(n_jobs=-1)]: Done  34 tasks      | elapsed:    2.4s\n"
     ]
    },
    {
     "name": "stdout",
     "output_type": "stream",
     "text": [
      "{'max_depth': 7, 'min_samples_leaf': 3}\n"
     ]
    },
    {
     "name": "stderr",
     "output_type": "stream",
     "text": [
      "[Parallel(n_jobs=-1)]: Done 243 out of 243 | elapsed:    2.8s finished\n"
     ]
    }
   ],
   "source": [
    "from sklearn.model_selection import GridSearchCV\n",
    "param_grid_tree = {\n",
    "            'max_depth' : range(1,10),\n",
    "            'min_samples_leaf' : range(1,10)\n",
    "            }\n",
    "\n",
    "CV_tree = GridSearchCV(estimator =tree, param_grid = param_grid_tree , return_train_score=True, verbose = 1, n_jobs = -1)\n",
    "CV_tree.fit(X_train, y_train)\n",
    "\n",
    "best_parameters_tree=CV_tree.best_params_\n",
    "print(best_parameters_tree)"
   ]
  },
  {
   "cell_type": "markdown",
   "metadata": {},
   "source": [
    "### Using best parameters obtained from GridSearch for Decision Tree Regressor"
   ]
  },
  {
   "cell_type": "code",
   "execution_count": 122,
   "metadata": {},
   "outputs": [
    {
     "name": "stdout",
     "output_type": "stream",
     "text": [
      "Train score: 93.4643 %\n",
      "Test score: 66.4837 %\n",
      "RMSE: 44907.8897\n",
      "r2_score : 0.6648373849748306\n"
     ]
    }
   ],
   "source": [
    "tree = DecisionTreeRegressor(max_depth=7,min_samples_leaf=3)\n",
    "tree.fit(X_train, y_train)\n",
    "\n",
    "y_pred_tree=tree.predict(X_test)\n",
    "\n",
    "print('Train score: {:.4f} %'.format(tree.score(X_train, y_train)*100))\n",
    "print('Test score: {:.4f} %'.format(tree.score(X_test, y_test)*100))\n",
    "print('RMSE: {:.4f}'.format(np.sqrt(mean_squared_error(y_test,y_pred_tree))))\n",
    "print('r2_score :', tree.score(X_test,y_test))"
   ]
  },
  {
   "cell_type": "markdown",
   "metadata": {},
   "source": [
    "Though with grid search, r2_score increases with max_depth = 7, however, the max_depth = 7, also increases overfitting in the data."
   ]
  },
  {
   "cell_type": "markdown",
   "metadata": {},
   "source": [
    "### Cross Validation - Decision Tree"
   ]
  },
  {
   "cell_type": "code",
   "execution_count": 123,
   "metadata": {},
   "outputs": [
    {
     "name": "stdout",
     "output_type": "stream",
     "text": [
      "Cross-validation scores_train: [0.72891315 0.71561627 0.76464041]\n",
      "Cross-validation scores_test: [239655.27777778 108125.88235294 135208.33333333 137478.26086957\n",
      " 160787.52631579 160787.52631579 239655.27777778 239077.68421053\n",
      " 108125.88235294 193060.46969697 160787.52631579 160787.52631579\n",
      " 108125.88235294 137478.26086957 160787.52631579 108125.88235294\n",
      " 137478.26086957 319217.07692308 135208.33333333 108125.88235294\n",
      " 137478.26086957 133655.         160787.52631579 239655.27777778\n",
      " 160787.52631579 319217.07692308 239655.27777778 160787.52631579\n",
      " 160787.52631579 319217.07692308 193060.46969697 193060.46969697\n",
      " 239077.68421053 239655.27777778 193060.46969697 193060.46969697\n",
      " 135208.33333333 239655.27777778 137478.26086957 133655.\n",
      " 193060.46969697 239077.68421053 108125.88235294 319217.07692308\n",
      " 133655.         133655.         137478.26086957 193060.46969697\n",
      " 160787.52631579 135208.33333333 239655.27777778 509792.\n",
      " 137478.26086957 239077.68421053 445864.         108125.88235294\n",
      " 137478.26086957 135208.33333333 108125.88235294 135208.33333333\n",
      " 133655.         137478.26086957 135208.33333333 160787.52631579\n",
      " 193060.46969697 160787.52631579 135208.33333333 239655.27777778\n",
      " 445864.         135208.33333333 193060.46969697 193060.46969697\n",
      " 135208.33333333 160787.52631579 135208.33333333 193060.46969697\n",
      " 160787.52631579 108125.88235294 319217.07692308 193060.46969697\n",
      " 193060.46969697 193060.46969697 509792.         135208.33333333\n",
      " 160787.52631579 193060.46969697 160787.52631579 137478.26086957\n",
      " 193060.46969697 319217.07692308 108125.88235294 239077.68421053\n",
      " 193060.46969697 137478.26086957 135208.33333333 193060.46969697\n",
      " 188000.         239077.68421053 193060.46969697 160787.52631579\n",
      " 160787.52631579 239655.27777778 135208.33333333 319217.07692308\n",
      " 319217.07692308 133655.         193060.46969697 193060.46969697\n",
      " 193060.46969697 239077.68421053 193060.46969697 135208.33333333\n",
      " 160787.52631579 108125.88235294 137478.26086957 160787.52631579\n",
      " 193060.46969697 160787.52631579 108125.88235294 193060.46969697\n",
      " 108125.88235294 319217.07692308 193060.46969697 319217.07692308\n",
      " 193060.46969697 193060.46969697 445864.         133655.\n",
      " 160787.52631579 135208.33333333 108125.88235294 160787.52631579\n",
      " 135208.33333333 160787.52631579 134439.98701299 134439.98701299\n",
      " 151922.91666667 198618.10344828 134439.98701299 204744.06896552\n",
      " 198618.10344828 202085.75       278422.2        204744.06896552\n",
      " 360623.         156390.92105263 204744.06896552 156390.92105263\n",
      " 134439.98701299 134439.98701299 134439.98701299 134439.98701299\n",
      " 360623.         134439.98701299 134439.98701299 278422.2\n",
      " 204744.06896552 204744.06896552 198618.10344828 204744.06896552\n",
      " 239152.         360623.         134439.98701299 134439.98701299\n",
      " 134439.98701299 100291.66666667 134439.98701299 134439.98701299\n",
      " 156390.92105263 198618.10344828 264286.66666667 204744.06896552\n",
      " 151922.91666667 239152.         239152.         204744.06896552\n",
      " 100291.66666667 134439.98701299 204744.06896552 204744.06896552\n",
      " 198618.10344828 360623.         134439.98701299 198618.10344828\n",
      " 151922.91666667 156390.92105263 204744.06896552 204744.06896552\n",
      " 239152.         264286.66666667 156390.92105263 202085.75\n",
      " 100291.66666667 204744.06896552 204744.06896552 239152.\n",
      " 156390.92105263 156390.92105263 134439.98701299 239152.\n",
      " 360623.         134439.98701299 151922.91666667 202085.75\n",
      " 100291.66666667 134439.98701299 134439.98701299 134439.98701299\n",
      " 134439.98701299 134439.98701299 156390.92105263 151922.91666667\n",
      " 134439.98701299 134439.98701299 156390.92105263 198618.10344828\n",
      " 156390.92105263 204744.06896552 156390.92105263 100291.66666667\n",
      " 198618.10344828 198618.10344828 204744.06896552 204744.06896552\n",
      " 100291.66666667 204744.06896552 156390.92105263 198618.10344828\n",
      " 156390.92105263 151922.91666667 151922.91666667 151922.91666667\n",
      " 156390.92105263 198618.10344828 360623.         134439.98701299\n",
      " 156390.92105263 134439.98701299 278422.2        239152.\n",
      " 239152.         204744.06896552 198618.10344828 134439.98701299\n",
      " 134439.98701299 156390.92105263 151922.91666667 360623.\n",
      " 151922.91666667 134439.98701299 278422.2        198618.10344828\n",
      " 134439.98701299 156390.92105263 134439.98701299 100291.66666667\n",
      " 134439.98701299 198618.10344828 156390.92105263 156390.92105263\n",
      " 156390.92105263 156390.92105263 100291.66666667 134439.98701299\n",
      " 278422.2        151922.91666667 204744.06896552 204744.06896552\n",
      " 146709.61111111 146709.61111111 155415.78125    146709.61111111\n",
      " 302913.63636364 155415.78125    146709.61111111 146709.61111111\n",
      " 119285.37837838 195615.38297872 146709.61111111 224907.\n",
      " 199571.42857143 195615.38297872 146709.61111111 146709.61111111\n",
      " 253330.         146709.61111111 199571.42857143 435763.5\n",
      " 171300.         224907.         146709.61111111 146709.61111111\n",
      " 155415.78125    292470.125      119285.37837838 119285.37837838\n",
      " 195615.38297872 155415.78125    155415.78125    195615.38297872\n",
      " 195615.38297872 155415.78125    155415.78125    119285.37837838\n",
      " 146709.61111111 146709.61111111 146709.61111111 199571.42857143\n",
      " 155415.78125    195615.38297872 253330.         119285.37837838\n",
      " 195615.38297872 119285.37837838 195615.38297872 253330.\n",
      " 146709.61111111 248456.91666667 119285.37837838 248456.91666667\n",
      " 199571.42857143 146709.61111111 224907.         195615.38297872\n",
      " 435763.5        195615.38297872 146709.61111111 146709.61111111\n",
      " 146709.61111111 195615.38297872 155415.78125    253330.\n",
      " 146709.61111111 119285.37837838 146709.61111111 302913.63636364\n",
      " 155415.78125    119285.37837838 195615.38297872 171300.\n",
      " 302913.63636364 253330.         195615.38297872 292470.125\n",
      " 146709.61111111 195615.38297872 199571.42857143 146709.61111111\n",
      " 155415.78125    119285.37837838 253330.         146709.61111111\n",
      " 155415.78125    146709.61111111 199571.42857143 435763.5\n",
      " 155415.78125    195615.38297872 146709.61111111 146709.61111111\n",
      " 195615.38297872 195615.38297872 119285.37837838 155415.78125\n",
      " 119285.37837838 146709.61111111 171300.         199571.42857143\n",
      " 146709.61111111 119285.37837838 146709.61111111 119285.37837838\n",
      " 146709.61111111 119285.37837838 146709.61111111 146709.61111111\n",
      " 302913.63636364 248456.91666667 155415.78125    195615.38297872\n",
      " 248456.91666667 146709.61111111 195615.38297872 146709.61111111\n",
      " 302913.63636364 253330.         146709.61111111 253330.\n",
      " 146709.61111111 195615.38297872 146709.61111111 195615.38297872\n",
      " 146709.61111111 253330.         119285.37837838 146709.61111111\n",
      " 146709.61111111 155415.78125    302913.63636364 119285.37837838\n",
      " 195615.38297872 146709.61111111]\n"
     ]
    },
    {
     "name": "stderr",
     "output_type": "stream",
     "text": [
      "c:\\users\\vithi\\appdata\\local\\programs\\python\\python36\\lib\\site-packages\\sklearn\\model_selection\\_split.py:1978: FutureWarning: The default value of cv will change from 3 to 5 in version 0.22. Specify it explicitly to silence this warning.\n",
      "  warnings.warn(CV_WARNING, FutureWarning)\n",
      "c:\\users\\vithi\\appdata\\local\\programs\\python\\python36\\lib\\site-packages\\sklearn\\model_selection\\_split.py:1978: FutureWarning: The default value of cv will change from 3 to 5 in version 0.22. Specify it explicitly to silence this warning.\n",
      "  warnings.warn(CV_WARNING, FutureWarning)\n"
     ]
    }
   ],
   "source": [
    "from sklearn.model_selection import cross_val_score, cross_val_predict\n",
    "tree1 = DecisionTreeRegressor(max_depth=4,min_samples_leaf=3)\n",
    "scores_train = cross_val_score(tree1, X_train, y_train)\n",
    "scores_test = cross_val_predict(tree1, X_test, y_test)\n",
    "print(\"Cross-validation scores_train: {}\".format(scores_train))\n",
    "print(\"Cross-validation scores_test: {}\".format(scores_test))"
   ]
  },
  {
   "cell_type": "code",
   "execution_count": 124,
   "metadata": {},
   "outputs": [
    {
     "name": "stdout",
     "output_type": "stream",
     "text": [
      "Average cross-validation score_test: 184458.80\n",
      "Average cross-validation score_train: 0.74\n"
     ]
    }
   ],
   "source": [
    "print(\"Average cross-validation score_test: {:.2f}\".format(scores_test.mean()))\n",
    "print(\"Average cross-validation score_train: {:.2f}\".format(scores_train.mean()))"
   ]
  },
  {
   "cell_type": "markdown",
   "metadata": {},
   "source": [
    "# [6] KNN Regressor"
   ]
  },
  {
   "cell_type": "code",
   "execution_count": 125,
   "metadata": {},
   "outputs": [
    {
     "data": {
      "text/plain": [
       "Text(0, 0.5, 'Score')"
      ]
     },
     "execution_count": 125,
     "metadata": {},
     "output_type": "execute_result"
    },
    {
     "data": {
      "image/png": "[encoded data removed]",
      "text/plain": [
       "<Figure size 1440x864 with 1 Axes>"
      ]
     },
     "metadata": {},
     "output_type": "display_data"
    }
   ],
   "source": [
    "from sklearn.neighbors import KNeighborsRegressor\n",
    "\n",
    "sns.set(rc={'figure.figsize':(20,12)})\n",
    "\n",
    "train_score_array = []\n",
    "test_score_array = []\n",
    "\n",
    "for k in range(1,10):\n",
    "    knn_reg = KNeighborsRegressor(k)\n",
    "    knn_reg.fit(X_train, y_train)\n",
    "    train_score_array.append(knn_reg.score(X_train, y_train))\n",
    "    test_score_array.append(knn_reg.score(X_test, y_test))\n",
    "\n",
    "x_axis = range(1,10)\n",
    "plt.plot(x_axis, train_score_array, c = 'g', label = 'Train Score')\n",
    "plt.plot(x_axis, test_score_array, c = 'b', label = 'Test Score')\n",
    "plt.legend() \n",
    "plt.xlabel('K Value')\n",
    "plt.ylabel('Score')"
   ]
  },
  {
   "cell_type": "markdown",
   "metadata": {},
   "source": [
    "Hence we take n = 8 here"
   ]
  },
  {
   "cell_type": "code",
   "execution_count": 160,
   "metadata": {},
   "outputs": [
    {
     "name": "stdout",
     "output_type": "stream",
     "text": [
      "Train score: 80.2245 %\n",
      "Test score: 67.7056 %\n",
      "RMSE: 44081.7459\n",
      "r2_score : 0.6770555322288389\n"
     ]
    }
   ],
   "source": [
    "knn_reg = KNeighborsRegressor(8)\n",
    "knn_reg.fit(X_train, y_train)\n",
    "y_pred = knn_reg.predict(X_test)\n",
    "print('Train score: {:.4f} %'.format(knn_reg.score(X_train, y_train)*100))\n",
    "print('Test score: {:.4f} %'.format(knn_reg.score(X_test, y_test)*100))\n",
    "\n",
    "print('RMSE: {:.4f}'.format(np.sqrt(mean_squared_error(y_test,y_pred))))\n",
    "print('r2_score :', knn_reg.score(X_test,y_test))"
   ]
  },
  {
   "cell_type": "markdown",
   "metadata": {},
   "source": [
    "Here the model slightly overfits the data. And the r2_score denotes that 67% of the data is being explained by features"
   ]
  },
  {
   "cell_type": "markdown",
   "metadata": {},
   "source": [
    "### GridSearch - KNN"
   ]
  },
  {
   "cell_type": "code",
   "execution_count": 127,
   "metadata": {},
   "outputs": [
    {
     "name": "stdout",
     "output_type": "stream",
     "text": [
      "{'algorithm': 'auto',\n",
      " 'leaf_size': 30,\n",
      " 'metric': 'minkowski',\n",
      " 'metric_params': None,\n",
      " 'n_jobs': None,\n",
      " 'n_neighbors': 4,\n",
      " 'p': 2,\n",
      " 'weights': 'uniform'}\n"
     ]
    }
   ],
   "source": [
    "from pprint import pprint\n",
    "pprint(knn_reg.get_params())"
   ]
  },
  {
   "cell_type": "code",
   "execution_count": 128,
   "metadata": {},
   "outputs": [
    {
     "name": "stderr",
     "output_type": "stream",
     "text": [
      "c:\\users\\vithi\\appdata\\local\\programs\\python\\python36\\lib\\site-packages\\sklearn\\model_selection\\_split.py:1978: FutureWarning: The default value of cv will change from 3 to 5 in version 0.22. Specify it explicitly to silence this warning.\n",
      "  warnings.warn(CV_WARNING, FutureWarning)\n",
      "[Parallel(n_jobs=-1)]: Using backend LokyBackend with 8 concurrent workers.\n"
     ]
    },
    {
     "name": "stdout",
     "output_type": "stream",
     "text": [
      "Fitting 3 folds for each of 38416 candidates, totalling 115248 fits\n"
     ]
    },
    {
     "name": "stderr",
     "output_type": "stream",
     "text": [
      "[Parallel(n_jobs=-1)]: Done  34 tasks      | elapsed:    2.8s\n",
      "[Parallel(n_jobs=-1)]: Done 184 tasks      | elapsed:   26.0s\n",
      "[Parallel(n_jobs=-1)]: Done 434 tasks      | elapsed:  1.3min\n",
      "[Parallel(n_jobs=-1)]: Done 784 tasks      | elapsed:  2.3min\n",
      "[Parallel(n_jobs=-1)]: Done 1234 tasks      | elapsed:  3.2min\n",
      "[Parallel(n_jobs=-1)]: Done 1784 tasks      | elapsed:  3.8min\n",
      "[Parallel(n_jobs=-1)]: Done 2434 tasks      | elapsed:  4.5min\n",
      "[Parallel(n_jobs=-1)]: Done 3184 tasks      | elapsed:  5.0min\n",
      "[Parallel(n_jobs=-1)]: Done 4034 tasks      | elapsed:  5.6min\n",
      "[Parallel(n_jobs=-1)]: Done 4984 tasks      | elapsed:  6.2min\n",
      "[Parallel(n_jobs=-1)]: Done 6034 tasks      | elapsed:  6.9min\n",
      "[Parallel(n_jobs=-1)]: Done 7184 tasks      | elapsed:  7.4min\n",
      "[Parallel(n_jobs=-1)]: Done 8434 tasks      | elapsed:  8.0min\n",
      "[Parallel(n_jobs=-1)]: Done 9784 tasks      | elapsed:  8.7min\n",
      "[Parallel(n_jobs=-1)]: Done 11234 tasks      | elapsed:  9.4min\n",
      "[Parallel(n_jobs=-1)]: Done 12784 tasks      | elapsed:  9.9min\n",
      "[Parallel(n_jobs=-1)]: Done 14434 tasks      | elapsed: 10.5min\n",
      "[Parallel(n_jobs=-1)]: Done 16184 tasks      | elapsed: 11.1min\n",
      "[Parallel(n_jobs=-1)]: Done 18034 tasks      | elapsed: 11.8min\n",
      "[Parallel(n_jobs=-1)]: Done 19984 tasks      | elapsed: 12.5min\n",
      "[Parallel(n_jobs=-1)]: Done 22034 tasks      | elapsed: 13.2min\n",
      "[Parallel(n_jobs=-1)]: Done 24184 tasks      | elapsed: 13.9min\n",
      "[Parallel(n_jobs=-1)]: Done 28145 tasks      | elapsed: 15.1min\n",
      "[Parallel(n_jobs=-1)]: Done 32845 tasks      | elapsed: 16.9min\n",
      "[Parallel(n_jobs=-1)]: Done 37745 tasks      | elapsed: 18.4min\n",
      "[Parallel(n_jobs=-1)]: Done 42845 tasks      | elapsed: 19.8min\n",
      "[Parallel(n_jobs=-1)]: Done 48145 tasks      | elapsed: 21.5min\n",
      "[Parallel(n_jobs=-1)]: Done 53645 tasks      | elapsed: 23.1min\n",
      "[Parallel(n_jobs=-1)]: Done 58510 tasks      | elapsed: 26.9min\n",
      "[Parallel(n_jobs=-1)]: Done 61460 tasks      | elapsed: 29.7min\n",
      "[Parallel(n_jobs=-1)]: Done 64510 tasks      | elapsed: 31.3min\n",
      "[Parallel(n_jobs=-1)]: Done 67660 tasks      | elapsed: 32.6min\n",
      "[Parallel(n_jobs=-1)]: Done 70910 tasks      | elapsed: 33.8min\n",
      "[Parallel(n_jobs=-1)]: Done 74260 tasks      | elapsed: 35.0min\n",
      "[Parallel(n_jobs=-1)]: Done 77710 tasks      | elapsed: 36.3min\n",
      "[Parallel(n_jobs=-1)]: Done 81931 tasks      | elapsed: 37.6min\n",
      "[Parallel(n_jobs=-1)]: Done 89231 tasks      | elapsed: 39.5min\n",
      "[Parallel(n_jobs=-1)]: Done 96731 tasks      | elapsed: 41.0min\n",
      "[Parallel(n_jobs=-1)]: Done 104431 tasks      | elapsed: 42.6min\n",
      "[Parallel(n_jobs=-1)]: Done 112331 tasks      | elapsed: 44.3min\n",
      "[Parallel(n_jobs=-1)]: Done 115233 out of 115248 | elapsed: 44.9min remaining:    0.3s\n",
      "[Parallel(n_jobs=-1)]: Done 115248 out of 115248 | elapsed: 44.9min finished\n"
     ]
    },
    {
     "name": "stdout",
     "output_type": "stream",
     "text": [
      "{'algorithm': 'auto', 'leaf_size': 1, 'n_neighbors': 6, 'p': 1, 'weights': 'distance'}\n"
     ]
    }
   ],
   "source": [
    "param_grid_knn = {\n",
    "            'leaf_size' : range(1,50),\n",
    "            'n_neighbors' : range(1,50),\n",
    "            'p': [1,2],\n",
    "            'weights': ['distance','uniform'],\n",
    "            'algorithm': ['auto', 'ball_tree', 'kd_tree', 'brute']\n",
    "            }\n",
    "\n",
    "CV_knn = GridSearchCV(estimator =knn_reg, param_grid = param_grid_knn , return_train_score=True, verbose = 1, n_jobs = -1)\n",
    "CV_knn.fit(X_train, y_train)\n",
    "\n",
    "best_parameters_knn=CV_knn.best_params_\n",
    "print(best_parameters_knn)"
   ]
  },
  {
   "cell_type": "markdown",
   "metadata": {},
   "source": [
    "### Using the best parameters for KNN Regressor obtained from GridSearch"
   ]
  },
  {
   "cell_type": "code",
   "execution_count": 129,
   "metadata": {},
   "outputs": [
    {
     "name": "stdout",
     "output_type": "stream",
     "text": [
      "Train score: 100.0000 %\n",
      "Test score: 71.9975 %\n",
      "RMSE: 41048.0873\n",
      "r2_score : 0.7199754374005909\n"
     ]
    }
   ],
   "source": [
    "knn_reg1=KNeighborsRegressor(n_neighbors=6,leaf_size=1,weights='distance',algorithm='auto',p=1)\n",
    "\n",
    "knn_reg1.fit(X_train, y_train)\n",
    "\n",
    "y_pred_knn=knn_reg1.predict(X_test)\n",
    "\n",
    "print('Train score: {:.4f} %'.format(knn_reg1.score(X_train, y_train)*100))\n",
    "print('Test score: {:.4f} %'.format(knn_reg1.score(X_test, y_test)*100))\n",
    "print('RMSE: {:.4f}'.format(np.sqrt(mean_squared_error(y_test,y_pred_knn))))\n",
    "print('r2_score :', knn_reg1.score(X_test,y_test))"
   ]
  },
  {
   "cell_type": "markdown",
   "metadata": {},
   "source": [
    "Though with grid search, r2_score increases with n_neighbors = 6, however, the n_neighbors = 6, also increases overfitting in the data."
   ]
  },
  {
   "cell_type": "markdown",
   "metadata": {},
   "source": [
    "### Cross Validation - KNN Regressor"
   ]
  },
  {
   "cell_type": "code",
   "execution_count": 98,
   "metadata": {},
   "outputs": [
    {
     "name": "stderr",
     "output_type": "stream",
     "text": [
      "c:\\users\\vithi\\appdata\\local\\programs\\python\\python36\\lib\\site-packages\\sklearn\\model_selection\\_split.py:1978: FutureWarning: The default value of cv will change from 3 to 5 in version 0.22. Specify it explicitly to silence this warning.\n",
      "  warnings.warn(CV_WARNING, FutureWarning)\n"
     ]
    },
    {
     "name": "stdout",
     "output_type": "stream",
     "text": [
      "Cross-validation scores_train: [0.77963229 0.76420444 0.7722651 ]\n",
      "Cross-validation scores_test: [209547.27263117 130228.32121508 122719.81863633 149373.4090352\n",
      " 186126.0046466  195711.05025804 204610.86738377 236752.61386449\n",
      " 128135.78051678 185200.62719749 161667.04019368 139606.43396208\n",
      "  87443.71490888 140235.69321441 216577.20997815 136711.63813177\n",
      " 164685.52290259 255614.9957668  152020.6990789  131310.0888373\n",
      " 146184.12080242 137890.65933684 168512.30036688 215760.52233894\n",
      " 181761.02981089 377826.94518691 211023.98780916 135353.88221928\n",
      " 198390.38288817 273732.03380456 190249.73238825 167563.66335903\n",
      " 201892.50627564 237864.47157256 191356.99498213 201991.50407049\n",
      " 136055.60327489 232814.67501527 123302.54157754 123564.8294782\n",
      " 194208.10425564 276274.67235644 111007.84690118 245319.15731163\n",
      " 109329.1178649  122140.71928156 148765.21592599 194810.29322404\n",
      " 128479.58028325 132776.66050707 228951.0332734  269241.01712742\n",
      " 166586.00014881 242660.77189755 269999.89321512 125900.23300831\n",
      " 145673.8881471  182483.77961    128983.38145445 183747.99242142\n",
      " 166125.00994665 184460.93495531 129812.80598089 203870.18847791\n",
      " 246820.01683979 173301.84691593 142253.08417851 224136.58300569\n",
      " 207191.00418203 138813.86911448 140377.04523651 140674.39877036\n",
      " 159611.78806299 169254.0435847  130200.51662181 208229.77925296\n",
      " 130771.07490545 108989.46434854 240218.87624412 194205.59775779\n",
      " 200005.22142734 138570.49177957 250908.4200372  141967.12452704\n",
      " 190087.9340924  209915.31100963 164238.51123136 173608.00894177\n",
      " 206051.72889092 255443.33833986 116488.15621472 217842.58709111\n",
      " 210418.86060722 137799.43123686 139621.38441338 140216.32309124\n",
      " 165681.19195531 274801.98491045 219996.5831552  127763.76761086\n",
      " 146246.28091833 247202.4454612  128392.92139654 214004.33263466\n",
      " 324786.24707473 133896.50877531 159179.27838038 189426.51217113\n",
      " 207726.19649912 219050.70379912 232837.78718001 147345.00299375\n",
      " 148252.62756415 129523.11853351 137746.65485371 182049.5205321\n",
      " 134627.73934272 150631.0920087  124147.32140677 135726.42242252\n",
      " 118265.49504417 267899.26225648 114905.68209036 391335.11630392\n",
      " 146603.67688635 165262.53126647 225696.56122231 136592.90264159\n",
      " 144254.97461436 140948.55868054 136142.23948055 156373.05694658\n",
      " 145439.97873426 146312.95460023 133616.32770422 100639.07606438\n",
      " 137452.94000725 235023.16619345 128082.45541552 209906.45494914\n",
      " 209507.66873618 184183.36376009 461447.21983236 174263.08308737\n",
      " 208796.51506016 213964.62883585 168137.23481033 164405.53174733\n",
      " 128476.89458512 163096.08145011 146709.92652359 150190.12183383\n",
      " 265919.37845083 125766.55517136 135175.82529997 233857.83237078\n",
      " 268223.9663211  250578.53178047 219366.05465395 157726.56421504\n",
      " 268838.34492682 252702.04461286 133393.24029541 116619.11815496\n",
      "  94748.87905637 120299.36562304 121284.68183963 129561.15358533\n",
      " 199661.70875223 166982.90412611 283189.28353688 271504.28424189\n",
      " 152319.33832638 232417.90600098 386716.21484434 234657.55313211\n",
      "  99619.96257864 137554.5078553  203733.75827814 167508.06790466\n",
      " 159246.39168219 234939.50317099 127538.30044417 174778.2433778\n",
      " 114565.89129051 188298.24886821 217292.94818617 218597.87427503\n",
      " 359742.66863202 164558.17184735 198890.42539638 150061.32091332\n",
      " 120615.97398117 172986.83317392 193168.63539116 166560.57409987\n",
      " 124441.43046577 129567.03150401 135481.70817462 267493.50581722\n",
      " 209748.66979204 135135.30596284 137982.70564679 151634.47485742\n",
      "  80842.48440596 154429.57747914 152619.5603348  158021.1262462\n",
      " 135617.43031769 169070.05322083 189385.06557917 138810.20477506\n",
      " 131472.63037577 149384.99281873 131941.15823996 196808.66437803\n",
      " 164433.16922632 185942.88003511 224126.57397383 130136.28894917\n",
      " 201897.26046594 176210.9190865  183932.07798852 154903.18021444\n",
      " 142258.04428527 219717.92764975 135663.59576469 163947.27506806\n",
      " 204920.91257867 167657.50479082 143554.97916724 153679.47241123\n",
      " 156466.87575947 208420.23342265 175005.03560251 133571.87667206\n",
      " 177211.38733932 111591.87057706 313652.96668107 255737.82055287\n",
      " 280321.11175358 153884.26852971 215814.10514748 131477.75786149\n",
      " 135239.10084703 201994.87312946 129314.72448316 228263.49508438\n",
      " 141394.36368068 129469.97125841 232582.56036395 221272.90529039\n",
      " 136371.91502063 174472.03185057 135819.34402622 139068.17119524\n",
      " 118158.47398941 191943.66804777 148943.24531329 210151.53010318\n",
      " 214461.1913893  124213.99722224 121363.69999871 131162.94721725\n",
      " 230973.63065122 167542.62999277 258528.0093364  205975.05514259\n",
      " 140315.10856225 155622.51089852 153187.95622973 162134.14417265\n",
      " 303243.33143731 142656.84697548 109778.9467447  156451.96960431\n",
      " 106720.59043194 201367.51008659 176260.21998958 217932.11688923\n",
      " 198673.95431036 231842.42012203 155024.47860155 133555.67286862\n",
      " 199896.6007564  152101.38666353 137512.25479843 375932.1080173\n",
      " 273480.02047903 153918.84832384 141599.77603168 176671.67462107\n",
      " 148634.04314182 303724.68577751 133921.34807925 138166.43679402\n",
      " 203584.23864853 170544.15564124 159660.97834645 125212.57776762\n",
      " 207245.00980527 129237.77976475 170235.40257026 134844.56568866\n",
      " 152108.12867003 134214.98396413 130344.95314718 202830.01991879\n",
      " 142540.18585401 130465.26377287 265370.53524366 130146.1286613\n",
      " 212037.86309454 122562.212249   207517.93200251 132173.15398919\n",
      " 199237.01949325 232631.86034859 143372.90146668 213936.95929343\n",
      " 172829.04371473 124139.08918961 199050.2028382  142444.74870846\n",
      " 342504.46848244 187721.45556481 144324.24449257 128765.72946673\n",
      " 185701.83650923 198581.74412252 156323.4257317  149439.08600765\n",
      " 153749.59731806 129796.90530054 141221.37519643 274000.84593932\n",
      " 137741.4816723  119924.97207521 225146.48885713 164888.07098799\n",
      " 391507.61168575 196765.32958994 161415.56741325 366990.25506502\n",
      " 146640.82526117 245406.50499217 149647.24362313 157313.18314748\n",
      " 148629.92990459 120328.21122985 169397.58635359 149260.48313538\n",
      " 142152.48666534 241052.70681103 117924.03024818 279884.01193484\n",
      " 167667.36657525 199160.7937799  119862.8287803  132376.54948953\n",
      " 203758.03612436 200604.89942821 122108.35343318 157235.57078945\n",
      " 125334.51603122 139308.0443627  206456.39928885 155719.35379897\n",
      " 195214.56842324 137058.87231333 127193.21221817 124504.75937446\n",
      " 143240.34373642 139042.03747063 161392.84353654 143188.68533121\n",
      " 360926.92752533 212552.00059815 172578.39379621 202974.84393711\n",
      " 246572.85379139 129829.43098324 159430.53971965 161385.24759146\n",
      " 277725.78488148 146039.30760362 171746.09552411 220141.68973926\n",
      " 147727.45198391 207302.48943916 131615.34034627 144202.10910963\n",
      " 152961.81441361 230957.20680571 115615.4136533  144012.22613537\n",
      " 147965.48192489 129891.19812438 228815.12797056 120036.03540426\n",
      " 197192.79014785 136674.57225512]\n"
     ]
    },
    {
     "name": "stderr",
     "output_type": "stream",
     "text": [
      "c:\\users\\vithi\\appdata\\local\\programs\\python\\python36\\lib\\site-packages\\sklearn\\model_selection\\_split.py:1978: FutureWarning: The default value of cv will change from 3 to 5 in version 0.22. Specify it explicitly to silence this warning.\n",
      "  warnings.warn(CV_WARNING, FutureWarning)\n"
     ]
    }
   ],
   "source": [
    "from sklearn.model_selection import cross_val_score, cross_val_predict\n",
    "knn_reg=KNeighborsRegressor(n_neighbors=4,leaf_size=1,weights='distance',algorithm='auto',p=1)\n",
    "scores_train = cross_val_score(knn_reg, X_train, y_train)\n",
    "scores_test = cross_val_predict(knn_reg, X_test, y_test)\n",
    "print(\"Cross-validation scores_train: {}\".format(scores_train))\n",
    "print(\"Cross-validation scores_test: {}\".format(scores_test))"
   ]
  },
  {
   "cell_type": "code",
   "execution_count": 99,
   "metadata": {},
   "outputs": [
    {
     "name": "stdout",
     "output_type": "stream",
     "text": [
      "Average cross-validation score_train: 0.77\n",
      "Average cross-validation score_test: 177664.06\n"
     ]
    }
   ],
   "source": [
    "print(\"Average cross-validation score_train: {:.2f}\".format(scores_train.mean()))\n",
    "print(\"Average cross-validation score_test: {:.2f}\".format(scores_test.mean()))"
   ]
  },
  {
   "cell_type": "markdown",
   "metadata": {},
   "source": [
    "# [7] Linear SVM"
   ]
  },
  {
   "cell_type": "code",
   "execution_count": 162,
   "metadata": {},
   "outputs": [
    {
     "name": "stderr",
     "output_type": "stream",
     "text": [
      "c:\\users\\vithi\\appdata\\local\\programs\\python\\python36\\lib\\site-packages\\sklearn\\svm\\base.py:929: ConvergenceWarning: Liblinear failed to converge, increase the number of iterations.\n",
      "  \"the number of iterations.\", ConvergenceWarning)\n",
      "c:\\users\\vithi\\appdata\\local\\programs\\python\\python36\\lib\\site-packages\\sklearn\\svm\\base.py:929: ConvergenceWarning: Liblinear failed to converge, increase the number of iterations.\n",
      "  \"the number of iterations.\", ConvergenceWarning)\n"
     ]
    },
    {
     "data": {
      "text/plain": [
       "Text(0, 0.5, 'Score')"
      ]
     },
     "execution_count": 162,
     "metadata": {},
     "output_type": "execute_result"
    },
    {
     "data": {
      "image/png": "[encoded data removed]",
      "text/plain": [
       "<Figure size 1440x864 with 1 Axes>"
      ]
     },
     "metadata": {},
     "output_type": "display_data"
    }
   ],
   "source": [
    "from sklearn.svm import LinearSVR\n",
    "\n",
    "sns.set(rc={'figure.figsize':(20,12)})\n",
    "linear_svm = LinearSVR()\n",
    "\n",
    "linear_svm.fit(X_train, y_train)\n",
    "y_pred=linear_svm.predict(X_test)\n",
    "\n",
    "train_score_array = []\n",
    "test_score_array = []\n",
    "\n",
    "for n in range(1,10):\n",
    "    linear_svm = LinearSVR(max_iter=n)\n",
    "    linear_svm.fit(X_train, y_train)\n",
    "    train_score_array.append(linear_svm.score(X_train, y_train))\n",
    "    test_score_array.append(linear_svm.score(X_test, y_pred))\n",
    "\n",
    "x_axis = range(1,10)\n",
    "plt.plot(x_axis, train_score_array, c = 'g', label = 'Train Score')\n",
    "plt.plot(x_axis, test_score_array, c = 'b', label = 'Test Score')\n",
    "plt.legend()\n",
    "plt.xlabel('Max Iterations')\n",
    "plt.ylabel('Score')"
   ]
  },
  {
   "cell_type": "code",
   "execution_count": 163,
   "metadata": {},
   "outputs": [
    {
     "name": "stdout",
     "output_type": "stream",
     "text": [
      "Train score: -434.8344 %\n",
      "Test score: -436.6278 %\n",
      "r2_score : -4.3662775086933525\n",
      "RMSE: 179693.1102\n"
     ]
    },
    {
     "name": "stderr",
     "output_type": "stream",
     "text": [
      "c:\\users\\vithi\\appdata\\local\\programs\\python\\python36\\lib\\site-packages\\sklearn\\svm\\base.py:929: ConvergenceWarning: Liblinear failed to converge, increase the number of iterations.\n",
      "  \"the number of iterations.\", ConvergenceWarning)\n"
     ]
    }
   ],
   "source": [
    "linear_svm = LinearSVR(max_iter=1)\n",
    "linear_svm.fit(X_train, y_train)\n",
    "\n",
    "y_pred_svm=linear_svm.predict(X_test)\n",
    "\n",
    "print('Train score: {:.4f} %'.format(linear_svm.score(X_train, y_train)*100))\n",
    "print('Test score: {:.4f} %'.format(linear_svm.score(X_test, y_test)*100))\n",
    "print('r2_score :', linear_svm.score(X_test,y_test))\n",
    "print('RMSE: {:.4f}'.format(np.sqrt(mean_squared_error(y_test,y_pred_svm))))"
   ]
  },
  {
   "cell_type": "markdown",
   "metadata": {},
   "source": [
    "### Cross Validation - Linear SVM"
   ]
  },
  {
   "cell_type": "code",
   "execution_count": 164,
   "metadata": {
    "scrolled": true
   },
   "outputs": [
    {
     "name": "stdout",
     "output_type": "stream",
     "text": [
      "Cross-validation scores_train: [-5.27466625 -4.04346221 -5.13621641]\n",
      "Cross-validation scores_test: [6524.25519103 5774.63827563 6762.2586618  6721.99102721 6048.04498734\n",
      " 6459.58386758 6029.77689364 6528.95204662 6500.31286503 6770.57341276\n",
      " 6338.37396086 6617.35738348 5470.01649032 6335.36367781 6424.0834367\n",
      " 6441.5074354  6624.91732598 6397.15599956 6479.06319186 5896.55906641\n",
      " 5736.46798368 6311.18082234 6600.9160739  6494.11796343 6704.73392864\n",
      " 6054.76596235 6560.28715991 6577.84266426 6530.404652   6513.5733166\n",
      " 6292.96118179 6295.55420891 5925.10701596 6396.53148837 6664.37418621\n",
      " 6433.39614105 6262.92547882 6625.5982504  6482.31398848 6333.41909083\n",
      " 6748.25892189 6885.28115335 5476.0161077  6145.72693498 6304.317041\n",
      " 6457.29581647 5977.7478065  5823.78674822 6593.28259696 6478.52579506\n",
      " 6300.39207018 6324.64559446 6254.86560555 6166.79847586 6273.38159452\n",
      " 5837.21491008 6370.2113132  6130.62895561 6336.09065626 5722.1144546\n",
      " 5834.17960031 6311.94361243 6481.10781298 6453.03050891 6486.87628199\n",
      " 6631.94999796 6149.26606286 5735.20693021 6134.62743826 6494.20541407\n",
      " 6671.39121646 6672.96436378 6282.34409622 6565.69556238 6067.01610817\n",
      " 6701.67195585 6337.96216353 6350.90367287 6390.90130477 6710.46020053\n",
      " 6119.16400032 6148.11377336 6267.6220801  6194.96388625 6080.00773928\n",
      " 6513.74742543 6523.45971874 6279.07861734 6557.87776344 6272.80480668\n",
      " 6485.67221737 6443.40988031 6380.16325833 7255.07172761 6109.85130917\n",
      " 6623.39625033 5933.96222537 6831.36975972 6384.86491647 5882.40550725\n",
      " 5976.54750102 6541.35086265 6586.12605739 6289.31899489 6407.30115126\n",
      " 6216.12069635 6160.36050328 6110.33129979 6409.76205958 6504.36762535\n",
      " 6142.37072077 6543.8912108  6538.57717359 6077.79744065 5927.66366299\n",
      " 6648.63245159 6325.77931401 6129.11411415 6083.56331421 6539.6440674\n",
      " 5558.01282853 6109.60950216 6475.015701   6027.56916277 6508.60911297\n",
      " 6987.80190118 6189.43949586 6057.02362341 6159.01493311 5957.149494\n",
      " 6568.53575459 6185.4688044  6227.12064045 6620.11588719 5726.83159623\n",
      " 5543.45063824 6426.66922782 6212.77140983 5677.13821636 6577.11505813\n",
      " 6840.03457998 6661.99992023 6166.50803268 6305.48300322 6160.98472351\n",
      " 6708.70799567 6510.89410216 6621.34920443 6281.92525368 5967.23379841\n",
      " 6222.44277664 6007.051491   6696.72737357 6443.5277196  6170.54238923\n",
      " 6412.83081104 6889.66941689 6510.62438605 6772.33676516 6004.74641858\n",
      " 6709.12509305 6099.86446198 5716.74639355 6186.37420045 5787.63496764\n",
      " 5755.16847157 4973.75058823 5906.97260833 6470.38526193 6488.7106349\n",
      " 6704.18818553 6598.90687035 6431.62483544 6479.22786879 5998.76677455\n",
      " 6679.9011444  5945.5494124  6477.19225868 6390.05078037 6671.73252548\n",
      " 6716.08363732 6462.38589321 6674.96973944 6417.36278352 5761.75402324\n",
      " 6078.2249271  6380.98294609 6484.03046625 6170.63617887 6116.33993753\n",
      " 6448.37072348 5950.24630758 6513.51833565 6119.48493381 6351.80758963\n",
      " 6519.76209288 5891.54398593 6436.62930516 6290.93935191 6190.32289613\n",
      " 6368.85882944 5720.57175118 6086.83009747 6546.22672935 5124.85057614\n",
      " 6545.06124634 5913.77413867 6514.28561324 6557.90569153 5752.14393915\n",
      " 6799.98049605 6196.21765076 6189.33584082 6608.70256208 5805.64560814\n",
      " 6407.16685521 5977.27526952 6061.70234805 6416.43700515 6302.9494611\n",
      " 6662.12927579 6729.44983229 6094.08275469 6451.41797318 6213.93450372\n",
      " 6622.08758702 6602.60327309 6438.07745451 6347.97496872 6225.35288725\n",
      " 6380.40929017 5866.67169555 6633.12272722 6503.71993772 6113.20971736\n",
      " 6201.98757762 6653.04590502 6547.45083331 6481.76952502 6783.80430374\n",
      " 6361.59618865 6428.05035775 6274.08762262 6411.48814772 6614.23291249\n",
      " 6206.57597793 5848.92390124 6782.04238395 6576.07166544 5928.51888718\n",
      " 6496.73058211 6368.67327597 6121.3132502  6675.36767271 6540.94570247\n",
      " 6307.44009125 6407.26315723 6215.80532242 6540.75490125 6291.72875453\n",
      " 6930.92133611 6585.46406113 6158.63737721 6021.88810764 6357.40884388\n",
      " 6757.16308537 6291.58127882 6394.2932072  6435.56720981 5957.1703353\n",
      " 6083.56418883 6407.15361924 6972.98239953 5888.11045483 5285.7912727\n",
      " 6054.17273738 6369.50782435 6590.41287459 6114.3014766  6341.56714679\n",
      " 6169.6756705  6310.05107423 6448.23048287 6337.50891743 6012.28156146\n",
      " 6584.89709734 6735.46732329 6495.73972316 5608.97422643 6507.01966522\n",
      " 6245.73900126 6039.60634814 6302.87174844 6160.92446809 5905.13927002\n",
      " 6534.66056973 6334.37534824 5901.39432448 6597.82540107 6773.1623965\n",
      " 6558.00654003 6279.77216895 6200.43255743 6504.56536657 6590.2887503\n",
      " 6496.52128275 6585.31282135 6674.89170811 6337.00764918 6609.19515857\n",
      " 6672.2941156  5525.35427012 6150.82192637 6143.20027492 6250.05990999\n",
      " 5967.74214882 6338.70232667 5962.41397675 6301.18411853 6260.4648838\n",
      " 5489.30697768 6633.48156446 6302.62390232 6069.21582026 5902.39833503\n",
      " 6457.13221143 5459.15962481 6323.9990187  6275.79914743 6170.84830621\n",
      " 6030.02032002 6903.720275   6170.88261003 6353.57278772 6202.59395963\n",
      " 6531.84803284 6690.32774462 6347.14356762 6438.06831034 6024.76893187\n",
      " 6274.80785426 6366.37297009 6844.2852772  6135.62479591 6262.49745684\n",
      " 6827.51997816 5529.31290412 5963.83553667 6553.32337331 6121.69589043\n",
      " 6811.88362828 6420.90751645 6202.67259205 5953.03238598 5554.96369664\n",
      " 6057.03609997 6225.2604041  6386.8936738  6610.68911727 6267.94864733\n",
      " 6379.54634482 6092.66851539 6161.93643365 6619.97001621 6356.93559008\n",
      " 6341.21084184 6868.9055796  5969.19936892 6454.1549569  6398.12330576\n",
      " 6091.96216072 6202.52877887 6450.08322557 6622.65823139 6983.50358125\n",
      " 6438.08430152 6221.67830118 6554.74594537 6386.5917914  6499.36916321\n",
      " 6789.96474924 5250.63205108 6396.19229995 6472.45231491 6244.25733533\n",
      " 6733.36786    6060.75439072 6507.89332175 6658.98450802 6571.85105906\n",
      " 6312.16288499 6400.59561468 6519.28270156 5848.13673822 6627.74099676\n",
      " 6237.27551137 5967.34510164 6477.61354074 6727.28330001 5943.95382242\n",
      " 5489.86362226 6226.86942013]\n"
     ]
    },
    {
     "name": "stderr",
     "output_type": "stream",
     "text": [
      "c:\\users\\vithi\\appdata\\local\\programs\\python\\python36\\lib\\site-packages\\sklearn\\model_selection\\_split.py:1978: FutureWarning: The default value of cv will change from 3 to 5 in version 0.22. Specify it explicitly to silence this warning.\n",
      "  warnings.warn(CV_WARNING, FutureWarning)\n",
      "c:\\users\\vithi\\appdata\\local\\programs\\python\\python36\\lib\\site-packages\\sklearn\\svm\\base.py:929: ConvergenceWarning: Liblinear failed to converge, increase the number of iterations.\n",
      "  \"the number of iterations.\", ConvergenceWarning)\n",
      "c:\\users\\vithi\\appdata\\local\\programs\\python\\python36\\lib\\site-packages\\sklearn\\svm\\base.py:929: ConvergenceWarning: Liblinear failed to converge, increase the number of iterations.\n",
      "  \"the number of iterations.\", ConvergenceWarning)\n",
      "c:\\users\\vithi\\appdata\\local\\programs\\python\\python36\\lib\\site-packages\\sklearn\\svm\\base.py:929: ConvergenceWarning: Liblinear failed to converge, increase the number of iterations.\n",
      "  \"the number of iterations.\", ConvergenceWarning)\n",
      "c:\\users\\vithi\\appdata\\local\\programs\\python\\python36\\lib\\site-packages\\sklearn\\model_selection\\_split.py:1978: FutureWarning: The default value of cv will change from 3 to 5 in version 0.22. Specify it explicitly to silence this warning.\n",
      "  warnings.warn(CV_WARNING, FutureWarning)\n",
      "c:\\users\\vithi\\appdata\\local\\programs\\python\\python36\\lib\\site-packages\\sklearn\\svm\\base.py:929: ConvergenceWarning: Liblinear failed to converge, increase the number of iterations.\n",
      "  \"the number of iterations.\", ConvergenceWarning)\n",
      "c:\\users\\vithi\\appdata\\local\\programs\\python\\python36\\lib\\site-packages\\sklearn\\svm\\base.py:929: ConvergenceWarning: Liblinear failed to converge, increase the number of iterations.\n",
      "  \"the number of iterations.\", ConvergenceWarning)\n",
      "c:\\users\\vithi\\appdata\\local\\programs\\python\\python36\\lib\\site-packages\\sklearn\\svm\\base.py:929: ConvergenceWarning: Liblinear failed to converge, increase the number of iterations.\n",
      "  \"the number of iterations.\", ConvergenceWarning)\n"
     ]
    }
   ],
   "source": [
    "from sklearn.model_selection import cross_val_score, cross_val_predict\n",
    "linear_svm = LinearSVR(max_iter=1)\n",
    "scores_train = cross_val_score(linear_svm, X_train, y_train)\n",
    "scores_test = cross_val_predict(linear_svm, X_test, y_test)\n",
    "print(\"Cross-validation scores_train: {}\".format(scores_train))\n",
    "print(\"Cross-validation scores_test: {}\".format(scores_test))"
   ]
  },
  {
   "cell_type": "code",
   "execution_count": 165,
   "metadata": {},
   "outputs": [
    {
     "name": "stdout",
     "output_type": "stream",
     "text": [
      "Average cross-validation score_train: -4.82\n",
      "Average cross-validation score_test: 6313.48\n"
     ]
    }
   ],
   "source": [
    "print(\"Average cross-validation score_train: {:.2f}\".format(scores_train.mean()))\n",
    "print(\"Average cross-validation score_test: {:.2f}\".format(scores_test.mean()))"
   ]
  },
  {
   "cell_type": "markdown",
   "metadata": {},
   "source": [
    "# [8] Linear SVR with Kernel"
   ]
  },
  {
   "cell_type": "code",
   "execution_count": 146,
   "metadata": {},
   "outputs": [],
   "source": [
    "from sklearn.svm import SVR, LinearSVR"
   ]
  },
  {
   "cell_type": "code",
   "execution_count": 147,
   "metadata": {},
   "outputs": [
    {
     "data": {
      "text/plain": [
       "-0.03375123161374072"
      ]
     },
     "execution_count": 147,
     "metadata": {},
     "output_type": "execute_result"
    }
   ],
   "source": [
    "clf2 = SVR(kernel='linear', C=1)\n",
    "clf2.fit(X_train,y_train)\n",
    "clf2.score(X_train,y_train)"
   ]
  },
  {
   "cell_type": "code",
   "execution_count": 148,
   "metadata": {},
   "outputs": [
    {
     "data": {
      "text/plain": [
       "-0.01874840957978674"
      ]
     },
     "execution_count": 148,
     "metadata": {},
     "output_type": "execute_result"
    }
   ],
   "source": [
    "clf2.score(X_test,y_test)"
   ]
  },
  {
   "cell_type": "code",
   "execution_count": 149,
   "metadata": {},
   "outputs": [
    {
     "data": {
      "text/plain": [
       "0.03777597197089555"
      ]
     },
     "execution_count": 149,
     "metadata": {},
     "output_type": "execute_result"
    }
   ],
   "source": [
    "clf2 = SVR(kernel='linear', C=10)\n",
    "clf2.fit(X_train,y_train)\n",
    "clf2.score(X_train,y_train)"
   ]
  },
  {
   "cell_type": "code",
   "execution_count": 151,
   "metadata": {},
   "outputs": [
    {
     "data": {
      "text/plain": [
       "0.050006841448406614"
      ]
     },
     "execution_count": 151,
     "metadata": {},
     "output_type": "execute_result"
    }
   ],
   "source": [
    "clf2.score(X_test,y_test)"
   ]
  },
  {
   "cell_type": "code",
   "execution_count": 152,
   "metadata": {},
   "outputs": [
    {
     "data": {
      "text/plain": [
       "0.43860361520301466"
      ]
     },
     "execution_count": 152,
     "metadata": {},
     "output_type": "execute_result"
    }
   ],
   "source": [
    "clf2 = SVR(kernel='linear', C=100)\n",
    "clf2.fit(X_train,y_train)\n",
    "clf2.score(X_train,y_train)"
   ]
  },
  {
   "cell_type": "code",
   "execution_count": 153,
   "metadata": {},
   "outputs": [
    {
     "data": {
      "text/plain": [
       "0.42201138453487785"
      ]
     },
     "execution_count": 153,
     "metadata": {},
     "output_type": "execute_result"
    }
   ],
   "source": [
    "clf2.score(X_test,y_test)"
   ]
  },
  {
   "cell_type": "code",
   "execution_count": 154,
   "metadata": {},
   "outputs": [
    {
     "data": {
      "text/plain": [
       "0.8119166284623746"
      ]
     },
     "execution_count": 154,
     "metadata": {},
     "output_type": "execute_result"
    }
   ],
   "source": [
    "clf2 = SVR(kernel='linear', C=1000)\n",
    "clf2.fit(X_train,y_train)\n",
    "clf2.score(X_train,y_train)"
   ]
  },
  {
   "cell_type": "code",
   "execution_count": 155,
   "metadata": {},
   "outputs": [
    {
     "data": {
      "text/plain": [
       "0.6958410746179242"
      ]
     },
     "execution_count": 155,
     "metadata": {},
     "output_type": "execute_result"
    }
   ],
   "source": [
    "clf2.score(X_test,y_test)"
   ]
  },
  {
   "cell_type": "code",
   "execution_count": 156,
   "metadata": {},
   "outputs": [
    {
     "data": {
      "text/plain": [
       "0.7436530765487193"
      ]
     },
     "execution_count": 156,
     "metadata": {},
     "output_type": "execute_result"
    }
   ],
   "source": [
    "clf2 = SVR(kernel='linear', C=500)\n",
    "clf2.fit(X_train,y_train)\n",
    "clf2.score(X_train,y_train)"
   ]
  },
  {
   "cell_type": "code",
   "execution_count": 157,
   "metadata": {},
   "outputs": [
    {
     "data": {
      "text/plain": [
       "0.6674622026879353"
      ]
     },
     "execution_count": 157,
     "metadata": {},
     "output_type": "execute_result"
    }
   ],
   "source": [
    "clf2.score(X_test,y_test)"
   ]
  },
  {
   "cell_type": "markdown",
   "metadata": {},
   "source": [
    "The best value of C for SVM with kernerl = 'linear' is 500, as both the train and test scores are near and highest."
   ]
  },
  {
   "cell_type": "markdown",
   "metadata": {},
   "source": [
    "# Best Regression Model"
   ]
  },
  {
   "cell_type": "code",
   "execution_count": 166,
   "metadata": {},
   "outputs": [
    {
     "name": "stdout",
     "output_type": "stream",
     "text": [
      "RMSE Linear Regression: 53544.8847\n",
      "RMSE Linear SVM: 179693.1102\n",
      "RMSE KNN Regressor: 179693.1102\n",
      "RMSE Polynomial Regression: 54063.1162\n",
      "RMSE Decision Tree Regressor: 44907.8897\n",
      "RMSE Ridge Regression: 43342.3995\n",
      "RMSE Lasso Regression: 44120.4260\n"
     ]
    }
   ],
   "source": [
    "print('RMSE Linear Regression: {:.4f}'.format(np.sqrt(mean_squared_error(y_test,pred_linear))))\n",
    "print('RMSE Linear SVM: {:.4f}'.format(np.sqrt(mean_squared_error(y_test,y_pred_svm))))\n",
    "print('RMSE KNN Regressor: {:.4f}'.format(np.sqrt(mean_squared_error(y_test,y_pred))))\n",
    "print('RMSE Polynomial Regression: {:.4f}'.format(np.sqrt(mean_squared_error(y_test,y_pred_poly))))\n",
    "print('RMSE Decision Tree Regressor: {:.4f}'.format(np.sqrt(mean_squared_error(y_test,y_pred_tree))))\n",
    "print('RMSE Ridge Regression: {:.4f}'.format(np.sqrt(mean_squared_error(y_test,y_pred_ridge))))\n",
    "print('RMSE Lasso Regression: {:.4f}'.format(np.sqrt(mean_squared_error(y_test,y_pred_lasso))))"
   ]
  },
  {
   "cell_type": "markdown",
   "metadata": {},
   "source": [
    "# Best Model\n",
    "Seeing the lowest RMSE, KNN Regressor can be considered as the best model here for this dataset."
   ]
  }
 ],
 "metadata": {
  "kernelspec": {
   "display_name": "Python 3",
   "language": "python",
   "name": "python3"
  },
  "language_info": {
   "codemirror_mode": {
    "name": "ipython",
    "version": 3
   },
   "file_extension": ".py",
   "mimetype": "text/x-python",
   "name": "python",
   "nbconvert_exporter": "python",
   "pygments_lexer": "ipython3",
   "version": "3.6.3"
  }
 },
 "nbformat": 4,
 "nbformat_minor": 2
}
